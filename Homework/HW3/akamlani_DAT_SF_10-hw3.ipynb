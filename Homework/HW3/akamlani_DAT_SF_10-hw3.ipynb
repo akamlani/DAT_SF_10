{
 "metadata": {
  "name": "",
  "signature": "sha256:1dcc0fbf76836db42bc67b7ee5a3f47338938ac3025fb460a872d8f62fdbbe00"
 },
 "nbformat": 3,
 "nbformat_minor": 0,
 "worksheets": [
  {
   "cells": [
    {
     "cell_type": "code",
     "collapsed": false,
     "input": [
      "import pandas as pd\n",
      "import numpy  as np \n",
      "from datetime import datetime\n",
      "\n",
      "# read in csv and calculate elapsed session time\n",
      "# convert session time into base unit (sec)\n",
      "df = pd.read_csv('student_logins.csv')\n",
      "# disregard session_start_time, session_end_time in favor of session_elapsed_time\n",
      "# disregard student_account_created in favor of session_account_delta\n",
      "def convert_to_sec(frame):\n",
      "    frame[\"session_elapsed_time_sec\"]  = (pd.to_datetime(frame.session_end_time) - \\\n",
      "                                      pd.to_datetime(frame.session_start_time)).total_seconds()\n",
      "    \n",
      "    # keeping +/- signs for more information\n",
      "    frame[\"session_start_account_sec\"] = (pd.to_datetime(frame.session_start_time) - \\\n",
      "                                          pd.to_datetime(frame.student_account_created)).total_seconds()\n",
      "    \n",
      "    frame[\"session_span_account_sec\"]  = (pd.to_datetime(frame.session_end_time) - \\\n",
      "                                          pd.to_datetime(frame.student_account_created)).total_seconds()\n",
      "    return frame\n",
      "\n",
      "\n",
      "# convert to new features in terms of seconds\n",
      "df_session = df.apply(convert_to_sec, axis=1)\n",
      "# convert 'class_id' to numerical value\n",
      "# disregard class_id in favor of class_target\n",
      "labels_dict = {name : i for i, name in list(enumerate(np.unique(df_session['class_id']))) }\n",
      "df_session['class_target'] = df_session['class_id'].map(lambda x: labels_dict[x])\n",
      "print \"class_id string to class_target map: {0}\\n\".format(labels_dict)\n",
      "df_session = df_session.drop(['session_start_time', 'session_end_time', 'student_account_created', 'class_id'], axis=1)\n",
      "df_session.head()"
     ],
     "language": "python",
     "metadata": {},
     "outputs": [
      {
       "output_type": "stream",
       "stream": "stdout",
       "text": [
        "class_id string to class_target map: {'a': 0, 'm': 4, 'c': 1, 'e': 2, 'g': 3}\n",
        "\n"
       ]
      },
      {
       "html": [
        "<div style=\"max-height:1000px;max-width:1500px;overflow:auto;\">\n",
        "<table border=\"1\" class=\"dataframe\">\n",
        "  <thead>\n",
        "    <tr style=\"text-align: right;\">\n",
        "      <th></th>\n",
        "      <th>problems_completed</th>\n",
        "      <th>student_id</th>\n",
        "      <th>student_previous_logins_total</th>\n",
        "      <th>student_previous_class_logins</th>\n",
        "      <th>session_elapsed_time_sec</th>\n",
        "      <th>session_start_account_sec</th>\n",
        "      <th>session_span_account_sec</th>\n",
        "      <th>class_target</th>\n",
        "    </tr>\n",
        "  </thead>\n",
        "  <tbody>\n",
        "    <tr>\n",
        "      <th>0</th>\n",
        "      <td> 37</td>\n",
        "      <td>  91</td>\n",
        "      <td>  76</td>\n",
        "      <td>  27</td>\n",
        "      <td> 1620</td>\n",
        "      <td> 6280080</td>\n",
        "      <td> 6281700</td>\n",
        "      <td> 2</td>\n",
        "    </tr>\n",
        "    <tr>\n",
        "      <th>1</th>\n",
        "      <td> 24</td>\n",
        "      <td> 161</td>\n",
        "      <td>   2</td>\n",
        "      <td>   0</td>\n",
        "      <td> 1620</td>\n",
        "      <td>  126000</td>\n",
        "      <td>  127620</td>\n",
        "      <td> 2</td>\n",
        "    </tr>\n",
        "    <tr>\n",
        "      <th>2</th>\n",
        "      <td> 50</td>\n",
        "      <td> 141</td>\n",
        "      <td>   8</td>\n",
        "      <td>   5</td>\n",
        "      <td> 1620</td>\n",
        "      <td>  723840</td>\n",
        "      <td>  725460</td>\n",
        "      <td> 2</td>\n",
        "    </tr>\n",
        "    <tr>\n",
        "      <th>3</th>\n",
        "      <td> 26</td>\n",
        "      <td> 101</td>\n",
        "      <td> 199</td>\n",
        "      <td> 104</td>\n",
        "      <td>  420</td>\n",
        "      <td> 4711260</td>\n",
        "      <td> 4711680</td>\n",
        "      <td> 2</td>\n",
        "    </tr>\n",
        "    <tr>\n",
        "      <th>4</th>\n",
        "      <td> 37</td>\n",
        "      <td> 103</td>\n",
        "      <td> 100</td>\n",
        "      <td>  41</td>\n",
        "      <td> 2640</td>\n",
        "      <td> 4121940</td>\n",
        "      <td> 4124580</td>\n",
        "      <td> 4</td>\n",
        "    </tr>\n",
        "  </tbody>\n",
        "</table>\n",
        "</div>"
       ],
       "metadata": {},
       "output_type": "pyout",
       "prompt_number": 1,
       "text": [
        "   problems_completed  student_id  student_previous_logins_total  \\\n",
        "0                  37          91                             76   \n",
        "1                  24         161                              2   \n",
        "2                  50         141                              8   \n",
        "3                  26         101                            199   \n",
        "4                  37         103                            100   \n",
        "\n",
        "   student_previous_class_logins  session_elapsed_time_sec  \\\n",
        "0                             27                      1620   \n",
        "1                              0                      1620   \n",
        "2                              5                      1620   \n",
        "3                            104                       420   \n",
        "4                             41                      2640   \n",
        "\n",
        "   session_start_account_sec  session_span_account_sec  class_target  \n",
        "0                    6280080                   6281700             2  \n",
        "1                     126000                    127620             2  \n",
        "2                     723840                    725460             2  \n",
        "3                    4711260                   4711680             2  \n",
        "4                    4121940                   4124580             4  "
       ]
      }
     ],
     "prompt_number": 1
    },
    {
     "cell_type": "code",
     "collapsed": false,
     "input": [
      "%matplotlib inline\n",
      "import matplotlib.pyplot as plt\n",
      "\n",
      "# plot the current data session time and find outliers\n",
      "# looks like there are couple outliers (< 0, >5e4, >4e4)\n",
      "plt.plot(df_session.session_elapsed_time_sec)\n",
      "df_sorted = df_session.sort('session_elapsed_time_sec', ascending=True, inplace=False)\n",
      "print \"Count: {0}, Elapsed Time Mean: {1}\".format(len(df_session), df_session['session_elapsed_time_sec'].mean())\n",
      "print \"Elapsed Time < 0: {0}\".format(df_sorted[df_sorted.session_elapsed_time_sec < 0]['session_elapsed_time_sec'].values)\n",
      "print \"Elapsed Time > 4e4: {0}\".format(df_sorted[df_sorted.session_elapsed_time_sec > 4e4]['session_elapsed_time_sec'].values)\n",
      "df_filtered = df_sorted[df_sorted.session_elapsed_time_sec >= 0]\n",
      "df_filtered = df_filtered[df_filtered.session_elapsed_time_sec < 4e4]"
     ],
     "language": "python",
     "metadata": {},
     "outputs": [
      {
       "output_type": "stream",
       "stream": "stdout",
       "text": [
        "Count: 48758, Elapsed Time Mean: 1397.90967636\n",
        "Elapsed Time < 0: [-4020.]\n",
        "Elapsed Time > 4e4: [ 41520.  59940.]\n"
       ]
      },
      {
       "metadata": {},
       "output_type": "display_data",
       "png": "[encoded data removed]",
       "text": [
        "<matplotlib.figure.Figure at 0x7f9ea3582a50>"
       ]
      }
     ],
     "prompt_number": 2
    },
    {
     "cell_type": "code",
     "collapsed": false,
     "input": [
      "# plt newly filtered data\n",
      "print \"Count: {0}, Elapsed Time Mean: {1}\".format(len(df_filtered), df_filtered['session_elapsed_time_sec'].mean())\n",
      "plt.plot(df_filtered.session_elapsed_time_sec)"
     ],
     "language": "python",
     "metadata": {},
     "outputs": [
      {
       "output_type": "stream",
       "stream": "stdout",
       "text": [
        "Count: 48755, Elapsed Time Mean: 1395.9971285\n"
       ]
      },
      {
       "metadata": {},
       "output_type": "pyout",
       "prompt_number": 3,
       "text": [
        "[<matplotlib.lines.Line2D at 0x7f9ea56f4f50>]"
       ]
      },
      {
       "metadata": {},
       "output_type": "display_data",
       "png": "[encoded data removed]",
       "text": [
        "<matplotlib.figure.Figure at 0x7f9ec8206190>"
       ]
      }
     ],
     "prompt_number": 3
    },
    {
     "cell_type": "code",
     "collapsed": false,
     "input": [
      "# Feature Scaling normalize the data - Using Normalization (2)\n",
      "# Multiple Methods: (1) Center = Subtract Mean (2) Normalize = Subtract Mean, Divide by Std Deviation\n",
      "# Note that we are NOT performing normalization on the 'ids': = student_id, class_target\n",
      "scale = (lambda x: (x - x.mean()) / x.std())\n",
      "df_ids = df_filtered[['student_id', 'class_target']]\n",
      "df_filtered.drop(['student_id', 'class_target'], axis=1, inplace=True)\n",
      "df_norm = df_filtered.apply(scale) \n",
      "df_norm[['student_id', 'class_target']] = df_ids[['student_id', 'class_target']]\n",
      "df_norm.head()"
     ],
     "language": "python",
     "metadata": {},
     "outputs": [
      {
       "html": [
        "<div style=\"max-height:1000px;max-width:1500px;overflow:auto;\">\n",
        "<table border=\"1\" class=\"dataframe\">\n",
        "  <thead>\n",
        "    <tr style=\"text-align: right;\">\n",
        "      <th></th>\n",
        "      <th>problems_completed</th>\n",
        "      <th>student_previous_logins_total</th>\n",
        "      <th>student_previous_class_logins</th>\n",
        "      <th>session_elapsed_time_sec</th>\n",
        "      <th>session_start_account_sec</th>\n",
        "      <th>session_span_account_sec</th>\n",
        "      <th>student_id</th>\n",
        "      <th>class_target</th>\n",
        "    </tr>\n",
        "  </thead>\n",
        "  <tbody>\n",
        "    <tr>\n",
        "      <th>36285</th>\n",
        "      <td>-1.441082</td>\n",
        "      <td>-0.233063</td>\n",
        "      <td>-0.118403</td>\n",
        "      <td>-1.331797</td>\n",
        "      <td>-0.558689</td>\n",
        "      <td>-0.558872</td>\n",
        "      <td> 594</td>\n",
        "      <td> 0</td>\n",
        "    </tr>\n",
        "    <tr>\n",
        "      <th>35930</th>\n",
        "      <td>-1.257778</td>\n",
        "      <td> 2.858475</td>\n",
        "      <td> 4.730795</td>\n",
        "      <td>-1.331797</td>\n",
        "      <td> 1.381098</td>\n",
        "      <td> 1.380935</td>\n",
        "      <td> 101</td>\n",
        "      <td> 1</td>\n",
        "    </tr>\n",
        "    <tr>\n",
        "      <th>35812</th>\n",
        "      <td>-1.441082</td>\n",
        "      <td>-0.831014</td>\n",
        "      <td>-0.695065</td>\n",
        "      <td>-1.331797</td>\n",
        "      <td>-0.872708</td>\n",
        "      <td>-0.872894</td>\n",
        "      <td> 389</td>\n",
        "      <td> 0</td>\n",
        "    </tr>\n",
        "    <tr>\n",
        "      <th>12052</th>\n",
        "      <td>-1.349430</td>\n",
        "      <td>-0.686827</td>\n",
        "      <td>-0.603323</td>\n",
        "      <td>-1.331797</td>\n",
        "      <td>-0.707180</td>\n",
        "      <td>-0.707364</td>\n",
        "      <td> 505</td>\n",
        "      <td> 0</td>\n",
        "    </tr>\n",
        "    <tr>\n",
        "      <th>26187</th>\n",
        "      <td>-1.441082</td>\n",
        "      <td> 0.852580</td>\n",
        "      <td> 1.231509</td>\n",
        "      <td>-1.331797</td>\n",
        "      <td> 1.251127</td>\n",
        "      <td> 1.250963</td>\n",
        "      <td>  36</td>\n",
        "      <td> 2</td>\n",
        "    </tr>\n",
        "  </tbody>\n",
        "</table>\n",
        "</div>"
       ],
       "metadata": {},
       "output_type": "pyout",
       "prompt_number": 4,
       "text": [
        "       problems_completed  student_previous_logins_total  \\\n",
        "36285           -1.441082                      -0.233063   \n",
        "35930           -1.257778                       2.858475   \n",
        "35812           -1.441082                      -0.831014   \n",
        "12052           -1.349430                      -0.686827   \n",
        "26187           -1.441082                       0.852580   \n",
        "\n",
        "       student_previous_class_logins  session_elapsed_time_sec  \\\n",
        "36285                      -0.118403                 -1.331797   \n",
        "35930                       4.730795                 -1.331797   \n",
        "35812                      -0.695065                 -1.331797   \n",
        "12052                      -0.603323                 -1.331797   \n",
        "26187                       1.231509                 -1.331797   \n",
        "\n",
        "       session_start_account_sec  session_span_account_sec  student_id  \\\n",
        "36285                  -0.558689                 -0.558872         594   \n",
        "35930                   1.381098                  1.380935         101   \n",
        "35812                  -0.872708                 -0.872894         389   \n",
        "12052                  -0.707180                 -0.707364         505   \n",
        "26187                   1.251127                  1.250963          36   \n",
        "\n",
        "       class_target  \n",
        "36285             0  \n",
        "35930             1  \n",
        "35812             0  \n",
        "12052             0  \n",
        "26187             2  "
       ]
      }
     ],
     "prompt_number": 4
    },
    {
     "cell_type": "code",
     "collapsed": false,
     "input": [
      "# reorder columns\n",
      "df_norm_cols = df_norm.columns.tolist()\n",
      "df_norm = df_norm[df_norm_cols[-2:] + df_norm_cols[:-2]]\n",
      "#df_norm.head()\n",
      "# sort the frame by our new converted delta time in (sec); we are sorting rather than dropping\n",
      "df_norm_sorted = df_norm.sort('session_elapsed_time_sec', ascending=False)\n",
      "df_norm_sorted[:5]"
     ],
     "language": "python",
     "metadata": {},
     "outputs": [
      {
       "html": [
        "<div style=\"max-height:1000px;max-width:1500px;overflow:auto;\">\n",
        "<table border=\"1\" class=\"dataframe\">\n",
        "  <thead>\n",
        "    <tr style=\"text-align: right;\">\n",
        "      <th></th>\n",
        "      <th>student_id</th>\n",
        "      <th>class_target</th>\n",
        "      <th>problems_completed</th>\n",
        "      <th>student_previous_logins_total</th>\n",
        "      <th>student_previous_class_logins</th>\n",
        "      <th>session_elapsed_time_sec</th>\n",
        "      <th>session_start_account_sec</th>\n",
        "      <th>session_span_account_sec</th>\n",
        "    </tr>\n",
        "  </thead>\n",
        "  <tbody>\n",
        "    <tr>\n",
        "      <th>12357</th>\n",
        "      <td> 354</td>\n",
        "      <td> 2</td>\n",
        "      <td> 7.265844</td>\n",
        "      <td>-0.767402</td>\n",
        "      <td>-0.655747</td>\n",
        "      <td> 11.432878</td>\n",
        "      <td>-0.865571</td>\n",
        "      <td>-0.864059</td>\n",
        "    </tr>\n",
        "    <tr>\n",
        "      <th>22341</th>\n",
        "      <td>  16</td>\n",
        "      <td> 1</td>\n",
        "      <td>-0.341260</td>\n",
        "      <td> 1.785554</td>\n",
        "      <td> 2.214454</td>\n",
        "      <td> 10.860471</td>\n",
        "      <td> 3.518797</td>\n",
        "      <td> 3.520276</td>\n",
        "    </tr>\n",
        "    <tr>\n",
        "      <th>10518</th>\n",
        "      <td> 486</td>\n",
        "      <td> 4</td>\n",
        "      <td> 3.966377</td>\n",
        "      <td>-0.975201</td>\n",
        "      <td>-0.852336</td>\n",
        "      <td>  9.372213</td>\n",
        "      <td>-0.842972</td>\n",
        "      <td>-0.841734</td>\n",
        "    </tr>\n",
        "    <tr>\n",
        "      <th>3777 </th>\n",
        "      <td> 117</td>\n",
        "      <td> 0</td>\n",
        "      <td> 3.049859</td>\n",
        "      <td>-0.054949</td>\n",
        "      <td>-0.406734</td>\n",
        "      <td>  9.372213</td>\n",
        "      <td>-0.204906</td>\n",
        "      <td>-0.203662</td>\n",
        "    </tr>\n",
        "    <tr>\n",
        "      <th>35360</th>\n",
        "      <td> 351</td>\n",
        "      <td> 3</td>\n",
        "      <td> 0.941866</td>\n",
        "      <td>-0.610493</td>\n",
        "      <td>-0.747488</td>\n",
        "      <td>  9.143250</td>\n",
        "      <td>-0.613992</td>\n",
        "      <td>-0.612783</td>\n",
        "    </tr>\n",
        "  </tbody>\n",
        "</table>\n",
        "</div>"
       ],
       "metadata": {},
       "output_type": "pyout",
       "prompt_number": 5,
       "text": [
        "       student_id  class_target  problems_completed  \\\n",
        "12357         354             2            7.265844   \n",
        "22341          16             1           -0.341260   \n",
        "10518         486             4            3.966377   \n",
        "3777          117             0            3.049859   \n",
        "35360         351             3            0.941866   \n",
        "\n",
        "       student_previous_logins_total  student_previous_class_logins  \\\n",
        "12357                      -0.767402                      -0.655747   \n",
        "22341                       1.785554                       2.214454   \n",
        "10518                      -0.975201                      -0.852336   \n",
        "3777                       -0.054949                      -0.406734   \n",
        "35360                      -0.610493                      -0.747488   \n",
        "\n",
        "       session_elapsed_time_sec  session_start_account_sec  \\\n",
        "12357                 11.432878                  -0.865571   \n",
        "22341                 10.860471                   3.518797   \n",
        "10518                  9.372213                  -0.842972   \n",
        "3777                   9.372213                  -0.204906   \n",
        "35360                  9.143250                  -0.613992   \n",
        "\n",
        "       session_span_account_sec  \n",
        "12357                 -0.864059  \n",
        "22341                  3.520276  \n",
        "10518                 -0.841734  \n",
        "3777                  -0.203662  \n",
        "35360                 -0.612783  "
       ]
      }
     ],
     "prompt_number": 5
    },
    {
     "cell_type": "code",
     "collapsed": false,
     "input": [
      "# perform correlation on pearson coefficient R-Squared\n",
      "df_norm_sorted.corr(method='pearson')"
     ],
     "language": "python",
     "metadata": {},
     "outputs": [
      {
       "html": [
        "<div style=\"max-height:1000px;max-width:1500px;overflow:auto;\">\n",
        "<table border=\"1\" class=\"dataframe\">\n",
        "  <thead>\n",
        "    <tr style=\"text-align: right;\">\n",
        "      <th></th>\n",
        "      <th>student_id</th>\n",
        "      <th>class_target</th>\n",
        "      <th>problems_completed</th>\n",
        "      <th>student_previous_logins_total</th>\n",
        "      <th>student_previous_class_logins</th>\n",
        "      <th>session_elapsed_time_sec</th>\n",
        "      <th>session_start_account_sec</th>\n",
        "      <th>session_span_account_sec</th>\n",
        "    </tr>\n",
        "  </thead>\n",
        "  <tbody>\n",
        "    <tr>\n",
        "      <th>student_id</th>\n",
        "      <td> 1.000000</td>\n",
        "      <td> 0.024901</td>\n",
        "      <td>-0.046540</td>\n",
        "      <td>-0.503649</td>\n",
        "      <td>-0.386195</td>\n",
        "      <td> 0.114345</td>\n",
        "      <td>-0.647356</td>\n",
        "      <td>-0.647348</td>\n",
        "    </tr>\n",
        "    <tr>\n",
        "      <th>class_target</th>\n",
        "      <td> 0.024901</td>\n",
        "      <td> 1.000000</td>\n",
        "      <td> 0.025318</td>\n",
        "      <td>-0.045694</td>\n",
        "      <td> 0.075411</td>\n",
        "      <td> 0.014188</td>\n",
        "      <td>-0.042307</td>\n",
        "      <td>-0.042305</td>\n",
        "    </tr>\n",
        "    <tr>\n",
        "      <th>problems_completed</th>\n",
        "      <td>-0.046540</td>\n",
        "      <td> 0.025318</td>\n",
        "      <td> 1.000000</td>\n",
        "      <td>-0.075499</td>\n",
        "      <td>-0.035993</td>\n",
        "      <td> 0.651176</td>\n",
        "      <td>-0.058657</td>\n",
        "      <td>-0.058571</td>\n",
        "    </tr>\n",
        "    <tr>\n",
        "      <th>student_previous_logins_total</th>\n",
        "      <td>-0.503649</td>\n",
        "      <td>-0.045694</td>\n",
        "      <td>-0.075499</td>\n",
        "      <td> 1.000000</td>\n",
        "      <td> 0.827278</td>\n",
        "      <td>-0.074065</td>\n",
        "      <td> 0.817039</td>\n",
        "      <td> 0.817038</td>\n",
        "    </tr>\n",
        "    <tr>\n",
        "      <th>student_previous_class_logins</th>\n",
        "      <td>-0.386195</td>\n",
        "      <td> 0.075411</td>\n",
        "      <td>-0.035993</td>\n",
        "      <td> 0.827278</td>\n",
        "      <td> 1.000000</td>\n",
        "      <td>-0.062418</td>\n",
        "      <td> 0.660025</td>\n",
        "      <td> 0.660023</td>\n",
        "    </tr>\n",
        "    <tr>\n",
        "      <th>session_elapsed_time_sec</th>\n",
        "      <td> 0.114345</td>\n",
        "      <td> 0.014188</td>\n",
        "      <td> 0.651176</td>\n",
        "      <td>-0.074065</td>\n",
        "      <td>-0.062418</td>\n",
        "      <td> 1.000000</td>\n",
        "      <td>-0.075680</td>\n",
        "      <td>-0.075548</td>\n",
        "    </tr>\n",
        "    <tr>\n",
        "      <th>session_start_account_sec</th>\n",
        "      <td>-0.647356</td>\n",
        "      <td>-0.042307</td>\n",
        "      <td>-0.058657</td>\n",
        "      <td> 0.817039</td>\n",
        "      <td> 0.660025</td>\n",
        "      <td>-0.075680</td>\n",
        "      <td> 1.000000</td>\n",
        "      <td> 1.000000</td>\n",
        "    </tr>\n",
        "    <tr>\n",
        "      <th>session_span_account_sec</th>\n",
        "      <td>-0.647348</td>\n",
        "      <td>-0.042305</td>\n",
        "      <td>-0.058571</td>\n",
        "      <td> 0.817038</td>\n",
        "      <td> 0.660023</td>\n",
        "      <td>-0.075548</td>\n",
        "      <td> 1.000000</td>\n",
        "      <td> 1.000000</td>\n",
        "    </tr>\n",
        "  </tbody>\n",
        "</table>\n",
        "</div>"
       ],
       "metadata": {},
       "output_type": "pyout",
       "prompt_number": 6,
       "text": [
        "                               student_id  class_target  problems_completed  \\\n",
        "student_id                       1.000000      0.024901           -0.046540   \n",
        "class_target                     0.024901      1.000000            0.025318   \n",
        "problems_completed              -0.046540      0.025318            1.000000   \n",
        "student_previous_logins_total   -0.503649     -0.045694           -0.075499   \n",
        "student_previous_class_logins   -0.386195      0.075411           -0.035993   \n",
        "session_elapsed_time_sec         0.114345      0.014188            0.651176   \n",
        "session_start_account_sec       -0.647356     -0.042307           -0.058657   \n",
        "session_span_account_sec        -0.647348     -0.042305           -0.058571   \n",
        "\n",
        "                               student_previous_logins_total  \\\n",
        "student_id                                         -0.503649   \n",
        "class_target                                       -0.045694   \n",
        "problems_completed                                 -0.075499   \n",
        "student_previous_logins_total                       1.000000   \n",
        "student_previous_class_logins                       0.827278   \n",
        "session_elapsed_time_sec                           -0.074065   \n",
        "session_start_account_sec                           0.817039   \n",
        "session_span_account_sec                            0.817038   \n",
        "\n",
        "                               student_previous_class_logins  \\\n",
        "student_id                                         -0.386195   \n",
        "class_target                                        0.075411   \n",
        "problems_completed                                 -0.035993   \n",
        "student_previous_logins_total                       0.827278   \n",
        "student_previous_class_logins                       1.000000   \n",
        "session_elapsed_time_sec                           -0.062418   \n",
        "session_start_account_sec                           0.660025   \n",
        "session_span_account_sec                            0.660023   \n",
        "\n",
        "                               session_elapsed_time_sec  \\\n",
        "student_id                                     0.114345   \n",
        "class_target                                   0.014188   \n",
        "problems_completed                             0.651176   \n",
        "student_previous_logins_total                 -0.074065   \n",
        "student_previous_class_logins                 -0.062418   \n",
        "session_elapsed_time_sec                       1.000000   \n",
        "session_start_account_sec                     -0.075680   \n",
        "session_span_account_sec                      -0.075548   \n",
        "\n",
        "                               session_start_account_sec  \\\n",
        "student_id                                     -0.647356   \n",
        "class_target                                   -0.042307   \n",
        "problems_completed                             -0.058657   \n",
        "student_previous_logins_total                   0.817039   \n",
        "student_previous_class_logins                   0.660025   \n",
        "session_elapsed_time_sec                       -0.075680   \n",
        "session_start_account_sec                       1.000000   \n",
        "session_span_account_sec                        1.000000   \n",
        "\n",
        "                               session_span_account_sec  \n",
        "student_id                                    -0.647348  \n",
        "class_target                                  -0.042305  \n",
        "problems_completed                            -0.058571  \n",
        "student_previous_logins_total                  0.817038  \n",
        "student_previous_class_logins                  0.660023  \n",
        "session_elapsed_time_sec                      -0.075548  \n",
        "session_start_account_sec                      1.000000  \n",
        "session_span_account_sec                       1.000000  "
       ]
      }
     ],
     "prompt_number": 6
    },
    {
     "cell_type": "code",
     "collapsed": false,
     "input": [
      "# looking at time spent per problem\n",
      "df_norm_sorted['norm_time_per_problem_sec'] = df_norm_sorted['session_elapsed_time_sec']/df_norm_sorted['problems_completed']\n",
      "#df_norm_sorted.sort('norm_time_per_problem_sec', ascending=True)\n",
      "\n",
      "# class_id string to class_target map: {'a': 0, 'm': 4, 'c': 1, 'e': 2, 'g': 3}\n",
      "print \"Normalized Avg Class Time per Problem:\\na: {0}\\nc: {1}\\ne: {2}\\ng: {3}\\nm: {4}\".format(\n",
      "df_norm_sorted[df_norm_sorted.class_target == 0]['norm_time_per_problem_sec'].mean(),\n",
      "df_norm_sorted[df_norm_sorted.class_target == 1]['norm_time_per_problem_sec'].mean(),\n",
      "df_norm_sorted[df_norm_sorted.class_target == 2]['norm_time_per_problem_sec'].mean(),\n",
      "df_norm_sorted[df_norm_sorted.class_target == 3]['norm_time_per_problem_sec'].mean(),\n",
      "df_norm_sorted[df_norm_sorted.class_target == 4]['norm_time_per_problem_sec'].mean())\n",
      "\n",
      "# Associate with each particular student, avg time (across all classes)\n",
      "# TBD"
     ],
     "language": "python",
     "metadata": {},
     "outputs": [
      {
       "output_type": "stream",
       "stream": "stdout",
       "text": [
        "Normalized Avg Class Time per Problem:\n",
        "a: 0.898014384995\n",
        "c: 0.707157870922\n",
        "e: -0.167883008152\n",
        "g: 0.700275654181\n",
        "m: 0.892003607929\n"
       ]
      }
     ],
     "prompt_number": 7
    },
    {
     "cell_type": "markdown",
     "metadata": {},
     "source": [
      "### Class Time per Problem\n",
      "* Interesting regarding class 'e'. The dataset tells us how many problems were completed per a class, that is tied to a particular session, but we don't know how many problems there were.  Perhaps they didn't have to complete as many problems in all of the classes, nor to we know if these were all the same problems. "
     ]
    },
    {
     "cell_type": "code",
     "collapsed": false,
     "input": [
      "# filter dataframe for narrowband(nb) integer based types to perform covariance on\n",
      "# disregard 'session_elapsed_time' as feature, as this should be considered response (y)\n",
      "y = df_norm_sorted['session_elapsed_time_sec']\n",
      "x = df_norm_sorted.drop(['session_elapsed_time_sec', 'norm_time_per_problem_sec'], axis=1)\n",
      "x[:5]"
     ],
     "language": "python",
     "metadata": {},
     "outputs": [
      {
       "html": [
        "<div style=\"max-height:1000px;max-width:1500px;overflow:auto;\">\n",
        "<table border=\"1\" class=\"dataframe\">\n",
        "  <thead>\n",
        "    <tr style=\"text-align: right;\">\n",
        "      <th></th>\n",
        "      <th>student_id</th>\n",
        "      <th>class_target</th>\n",
        "      <th>problems_completed</th>\n",
        "      <th>student_previous_logins_total</th>\n",
        "      <th>student_previous_class_logins</th>\n",
        "      <th>session_start_account_sec</th>\n",
        "      <th>session_span_account_sec</th>\n",
        "    </tr>\n",
        "  </thead>\n",
        "  <tbody>\n",
        "    <tr>\n",
        "      <th>12357</th>\n",
        "      <td> 354</td>\n",
        "      <td> 2</td>\n",
        "      <td> 7.265844</td>\n",
        "      <td>-0.767402</td>\n",
        "      <td>-0.655747</td>\n",
        "      <td>-0.865571</td>\n",
        "      <td>-0.864059</td>\n",
        "    </tr>\n",
        "    <tr>\n",
        "      <th>22341</th>\n",
        "      <td>  16</td>\n",
        "      <td> 1</td>\n",
        "      <td>-0.341260</td>\n",
        "      <td> 1.785554</td>\n",
        "      <td> 2.214454</td>\n",
        "      <td> 3.518797</td>\n",
        "      <td> 3.520276</td>\n",
        "    </tr>\n",
        "    <tr>\n",
        "      <th>10518</th>\n",
        "      <td> 486</td>\n",
        "      <td> 4</td>\n",
        "      <td> 3.966377</td>\n",
        "      <td>-0.975201</td>\n",
        "      <td>-0.852336</td>\n",
        "      <td>-0.842972</td>\n",
        "      <td>-0.841734</td>\n",
        "    </tr>\n",
        "    <tr>\n",
        "      <th>3777 </th>\n",
        "      <td> 117</td>\n",
        "      <td> 0</td>\n",
        "      <td> 3.049859</td>\n",
        "      <td>-0.054949</td>\n",
        "      <td>-0.406734</td>\n",
        "      <td>-0.204906</td>\n",
        "      <td>-0.203662</td>\n",
        "    </tr>\n",
        "    <tr>\n",
        "      <th>35360</th>\n",
        "      <td> 351</td>\n",
        "      <td> 3</td>\n",
        "      <td> 0.941866</td>\n",
        "      <td>-0.610493</td>\n",
        "      <td>-0.747488</td>\n",
        "      <td>-0.613992</td>\n",
        "      <td>-0.612783</td>\n",
        "    </tr>\n",
        "  </tbody>\n",
        "</table>\n",
        "</div>"
       ],
       "metadata": {},
       "output_type": "pyout",
       "prompt_number": 8,
       "text": [
        "       student_id  class_target  problems_completed  \\\n",
        "12357         354             2            7.265844   \n",
        "22341          16             1           -0.341260   \n",
        "10518         486             4            3.966377   \n",
        "3777          117             0            3.049859   \n",
        "35360         351             3            0.941866   \n",
        "\n",
        "       student_previous_logins_total  student_previous_class_logins  \\\n",
        "12357                      -0.767402                      -0.655747   \n",
        "22341                       1.785554                       2.214454   \n",
        "10518                      -0.975201                      -0.852336   \n",
        "3777                       -0.054949                      -0.406734   \n",
        "35360                      -0.610493                      -0.747488   \n",
        "\n",
        "       session_start_account_sec  session_span_account_sec  \n",
        "12357                  -0.865571                 -0.864059  \n",
        "22341                   3.518797                  3.520276  \n",
        "10518                  -0.842972                 -0.841734  \n",
        "3777                   -0.204906                 -0.203662  \n",
        "35360                  -0.613992                 -0.612783  "
       ]
      }
     ],
     "prompt_number": 8
    },
    {
     "cell_type": "code",
     "collapsed": false,
     "input": [
      "# Compare Against sklearn PCA implementation \n",
      "# PCA is showing there isn't high variance other than the 1rst component\n",
      "\n",
      "from sklearn.decomposition import PCA \n",
      "pca = PCA(n_components=7)\n",
      "pca.fit(x.values)\n",
      "x_reduced = pca.transform(x.values)\n",
      "print \"Dataset shape:\\n\", x_reduced.shape\n",
      "\n",
      "#explained variance should correspond to the eigenvalues\n",
      "#components_ are the eigenvectors of the covariance matrix\n",
      "#The first row of components_ is the direction of maximum variance\n",
      "# print \"PCA Components:\\n{0}\".format(pca.components_)\n",
      "#the variance each Principal Conponent (PC)\n",
      "#The entries in explained_variance_ratio_ correspond to the rows of components_\n",
      "#Data reduced to these dimensions are different from the data on dimensions in original data \n",
      "print \"Feature Variance Percentage:\\n{0}\".format(pca.explained_variance_ratio_)\n",
      "#mean\n",
      "# print \"Lower Dimension Means:\\n{0}\".format(pca.mean_)\n",
      "#reduced vector dataset\n",
      "# print \"Lower Dimension Mapped Matrix:\\n{0}\".format(x_reduced[:5])"
     ],
     "language": "python",
     "metadata": {},
     "outputs": [
      {
       "output_type": "stream",
       "stream": "stdout",
       "text": [
        "Dataset shape:\n",
        "(48755, 7)\n",
        "Feature Variance Percentage:\n",
        "[  9.99785096e-01   9.03745479e-05   7.41440292e-05   3.24848765e-05\n",
        "   1.37180584e-05   4.18268328e-06   1.60889223e-13]\n"
       ]
      }
     ],
     "prompt_number": 9
    },
    {
     "cell_type": "markdown",
     "metadata": {},
     "source": [
      "### Summary of Number of Features\n",
      "*  Based on the Pearson's correlation and PCA (explained_variance_ratio_), it doesn't look like there is a high correlation between all the features in the dataset and the response variable ('session_elapsed_time').\n",
      "    * 'problems_completed' has a high correlation\n",
      "    * 'student_id' is merely an identifier, so possibly characteristics of the student, although it's correlation is still low.\n",
      "* So we will try these two features, with the expection, 'problems_completed' being the primary contributor.\n",
      "* We will check for 'Adjusted R-Squared' as it penalizes for the use of additional features to account for spuriously increased values of 'R-Squared' correaltion."
     ]
    },
    {
     "cell_type": "code",
     "collapsed": false,
     "input": [
      "# At this point we have determined which features provide the highest correlation\n",
      "# Run this through the Linear Regression model for prediction\n",
      "import statsmodels.api as sm\n",
      "\n",
      "def perform_linear_regression_model(x, y):\n",
      "    # this really add the '1's for (B0) for the y-intercept\n",
      "    X = sm.add_constant(x, prepend=True)\n",
      "    results = sm.OLS(y, X).fit()\n",
      "    return results\n",
      "\n",
      "def measure_specific_model(input_v, response_v):\n",
      "    for model, model_v in input_v.iteritems():\n",
      "        print\"Model Sequence: {0}\".format(model)\n",
      "        r = perform_linear_regression_model(model_v.values, response_v.values)\n",
      "        log_model(r)\n",
      "        \n",
      "def measure_compound_model(cols, input_v, response_v):\n",
      "    model_v = []\n",
      "    for feature in cols:\n",
      "        model_v.append(feature)\n",
      "        print\"Model Sequence: {0}\".format(model_v)\n",
      "        r = perform_linear_regression_model(input_v[model_v].values, response_v.values)\n",
      "        log_model(r)\n",
      "\n",
      "def log_model(obj):\n",
      "    print\"Score=R-Squared:{0},Adj R-Squared:{1}\".format(obj.rsquared, obj.rsquared_adj)     \n",
      "    print\"Coefficients:{0}\".format(obj.params)   \n",
      "    #print obj.summary()\n",
      "    \n",
      "# f-statistic: mean squared error of the model divided by the mean squared error of the residuals\n",
      "# f_pvalue: p-value of the F-statistic\n",
      "# rsquared_adj: penalizes the use of additional features with amount likely to spuriously increase the r-squared.\n",
      "# rsquared_adj: takes into account degrees of freedom (predictors) and number of samples\n",
      "# params: coefficients\n",
      "# Cond. No.: measures the sensitivity of a function\u2019s output to its input - apply ridge regression"
     ],
     "language": "python",
     "metadata": {},
     "outputs": [],
     "prompt_number": 10
    },
    {
     "cell_type": "code",
     "collapsed": false,
     "input": [
      "# Model Sequence Independent Variance: {Based on information from Pearson's Coefficient and PCA}\n",
      "print \"MODEL SPECIFIC VARIANCE\"\n",
      "model_vectors = {\"student_id\":   x['student_id'],\n",
      "                 \"problems_completed\":  x['problems_completed'],\n",
      "                 \"student_id, problems_completed\": x[['student_id','problems_completed']] }\n",
      "measure_specific_model(model_vectors, y)"
     ],
     "language": "python",
     "metadata": {},
     "outputs": [
      {
       "output_type": "stream",
       "stream": "stdout",
       "text": [
        "MODEL SPECIFIC VARIANCE\n",
        "Model Sequence: problems_completed\n",
        "Score=R-Squared:0.424030274549,Adj R-Squared:0.424018460512\n",
        "Coefficients:[  4.40619763e-16   6.51176070e-01]\n",
        "Model Sequence: student_id\n",
        "Score=R-Squared:0.0130746831931,Adj R-Squared:0.0130544398169"
       ]
      },
      {
       "output_type": "stream",
       "stream": "stdout",
       "text": [
        "\n",
        "Coefficients:[-0.18772776  0.00065948]\n",
        "Model Sequence: student_id, problems_completed\n",
        "Score=R-Squared:0.444999453641,Adj R-Squared:0.444976685322"
       ]
      },
      {
       "output_type": "stream",
       "stream": "stdout",
       "text": [
        "\n",
        "Coefficients:[-0.23799864  0.00083608  0.65792275]\n"
       ]
      }
     ],
     "prompt_number": 11
    },
    {
     "cell_type": "code",
     "collapsed": false,
     "input": [
      "# Model Compunded including 'problems_completed'\n",
      "print \"MODEL COMPOUND ALL\"\n",
      "model_cols = x.columns.tolist()\n",
      "measure_compound_model(model_cols, x, y)"
     ],
     "language": "python",
     "metadata": {},
     "outputs": [
      {
       "output_type": "stream",
       "stream": "stdout",
       "text": [
        "MODEL COMPOUND ALL\n",
        "Model Sequence: ['student_id']\n",
        "Score=R-Squared:0.0130746831931,Adj R-Squared:0.0130544398169\n",
        "Coefficients:[-0.18772776  0.00065948]\n",
        "Model Sequence: ['student_id', 'class_target']\n",
        "Score=R-Squared:0.0132033832186,Adj R-Squared:0.0131629009156"
       ]
      },
      {
       "output_type": "stream",
       "stream": "stdout",
       "text": [
        "\n",
        "Coefficients:[-0.20280386  0.00065785  0.00689723]\n",
        "Model Sequence: ['student_id', 'class_target', 'problems_completed']\n",
        "Score=R-Squared:0.445036449697,Adj R-Squared:0.445002298794"
       ]
      },
      {
       "output_type": "stream",
       "stream": "stdout",
       "text": [
        "\n",
        "Coefficients:[-0.22992504  0.000837   -0.00369927  0.65808425]\n",
        "Model Sequence: ['student_id', 'class_target', 'problems_completed', 'student_previous_logins_total']\n",
        "Score=R-Squared:0.448225289376,Adj R-Squared:0.448180015553"
       ]
      },
      {
       "output_type": "stream",
       "stream": "stdout",
       "text": [
        "\n",
        "Coefficients:[-0.28753607  0.0010297  -0.002476    0.66455923  0.06584109]\n",
        "Model Sequence: ['student_id', 'class_target', 'problems_completed', 'student_previous_logins_total', 'student_previous_class_logins']\n",
        "Score=R-Squared:0.450094369396,Adj R-Squared:0.450037967661"
       ]
      },
      {
       "output_type": "stream",
       "stream": "stdout",
       "text": [
        "\n",
        "Coefficients:[-0.30536204  0.00104957  0.00292637  0.6667549   0.13336176 -0.07882992]\n",
        "Model Sequence: ['student_id', 'class_target', 'problems_completed', 'student_previous_logins_total', 'student_previous_class_logins', 'session_start_account_sec']\n",
        "Score=R-Squared:0.452429214848,Adj R-Squared:0.452361818756"
       ]
      },
      {
       "output_type": "stream",
       "stream": "stdout",
       "text": [
        "\n",
        "Coefficients:[-0.3553513   0.00122429  0.00303859  0.66899409  0.06961712 -0.07721027\n",
        "  0.09527074]\n",
        "Model Sequence: ['student_id', 'class_target', 'problems_completed', 'student_previous_logins_total', 'student_previous_class_logins', 'session_start_account_sec', 'session_span_account_sec']\n",
        "Score=R-Squared:1.0,Adj R-Squared:1.0"
       ]
      },
      {
       "output_type": "stream",
       "stream": "stdout",
       "text": [
        "\n",
        "Coefficients:[  9.75802165e-12  -2.28850375e-14  -1.34600240e-12   3.12843501e-13\n",
        "  -1.48623095e-12   2.47030911e-13  -7.52269511e+03   7.52261949e+03]\n"
       ]
      }
     ],
     "prompt_number": 12
    },
    {
     "cell_type": "code",
     "collapsed": false,
     "input": [
      "print \"MODEL COMPOUND wo/problems_completed\"\n",
      "model_cols.remove('problems_completed')\n",
      "measure_compound_model(model_cols, x, y)"
     ],
     "language": "python",
     "metadata": {},
     "outputs": [
      {
       "output_type": "stream",
       "stream": "stdout",
       "text": [
        "MODEL COMPOUND wo/problems_completed\n",
        "Model Sequence: ['student_id']\n",
        "Score=R-Squared:0.0130746831931,Adj R-Squared:0.0130544398169\n",
        "Coefficients:[-0.18772776  0.00065948]\n",
        "Model Sequence: ['student_id', 'class_target']\n",
        "Score=R-Squared:0.0132033832186,Adj R-Squared:0.0131629009156"
       ]
      },
      {
       "output_type": "stream",
       "stream": "stdout",
       "text": [
        "\n",
        "Coefficients:[-0.20280386  0.00065785  0.00689723]\n",
        "Model Sequence: ['student_id', 'class_target', 'student_previous_logins_total']\n",
        "Score=R-Squared:0.0135511947785,Adj R-Squared:0.0134904914819"
       ]
      },
      {
       "output_type": "stream",
       "stream": "stdout",
       "text": [
        "\n",
        "Coefficients:[-0.18398831  0.0005952   0.00646165 -0.02160352]\n",
        "Model Sequence: ['student_id', 'class_target', 'student_previous_logins_total', 'student_previous_class_logins']\n",
        "Score=R-Squared:0.0136512249461,Adj R-Squared:0.0135702937646"
       ]
      },
      {
       "output_type": "stream",
       "stream": "stdout",
       "text": [
        "\n",
        "Coefficients:[-0.18802791  0.00059946  0.00771667 -0.0060698  -0.01821344]\n",
        "Model Sequence: ['student_id', 'class_target', 'student_previous_logins_total', 'student_previous_class_logins', 'session_start_account_sec']\n",
        "Score=R-Squared:0.0139740617365,Adj R-Squared:0.0138729287965"
       ]
      },
      {
       "output_type": "stream",
       "stream": "stdout",
       "text": [
        "\n",
        "Coefficients:[-0.20645026  0.0006638   0.00776433 -0.02992194 -0.0175362   0.0353887 ]\n",
        "Model Sequence: ['student_id', 'class_target', 'student_previous_logins_total', 'student_previous_class_logins', 'session_start_account_sec', 'session_span_account_sec']\n",
        "Score=R-Squared:1.0,Adj R-Squared:1.0"
       ]
      },
      {
       "output_type": "stream",
       "stream": "stdout",
       "text": [
        "\n",
        "Coefficients:[ -4.31324980e-11   1.64071128e-13  -1.49087240e-12   3.70819087e-12\n",
        "  -9.26668247e-13  -7.52269511e+03   7.52261949e+03]\n"
       ]
      }
     ],
     "prompt_number": 13
    },
    {
     "cell_type": "markdown",
     "metadata": {},
     "source": [
      "### Linear Regression Summary\n",
      "* Our previous assumptions were correct in such that looking at the 'student_id' and 'problems_completed', 'problems_completed' score is the principal contributor of the model.  This set was based on looking at the individual features correlation to the 'session_elapsed_time' in sec.\n",
      "* However note that as the features are compounded in sequence, with and without 'problems_completed', the only feature that adds a high corelated is the feature 'session_span_account_sec', with a R-squared of 1.0.  This would not be acceptible to include in the model, as it would be 'Overfitting' and not be able to generalize.  The other features do not add enough in correlation to consider them as adding to the feature space.  \n",
      "    * This feature is the difference between when the account was created, and when the session ended, in contrast to 'session_start_account_sec', which is the difference between when the account was created and when the session started.  Clearly  it is most likely the account created was before the session started or very near it, so it too closely the models the output response. \n",
      "    * Therefore we will only include the 'problems_completed' as the single feature.  \n",
      "        * B0=(Vector of Ones)\n",
      "        * Y = B0\\*Intercept + B1\\*problems_completed\n",
      "* While we could choose a compounding model that gives the maximum correlation (e.g. 0.452, with 6 features), this is not all that different from 'problems_completed' at ~0.424, therefore for simpicity of the model, we decide to stick with the single feature in terms of predicting session time for a particular user.  It really becomes a tradeoff.  \n",
      "* Note that is marginally better than if we included the outliers."
     ]
    },
    {
     "cell_type": "code",
     "collapsed": false,
     "input": [
      "# Show Scores and Coefficients of defined Model that is normalized\n",
      "# Notice that the intercept is essentially null\n",
      "measure_specific_model({\"problems_completed\":  x['problems_completed']}, y)"
     ],
     "language": "python",
     "metadata": {},
     "outputs": [
      {
       "output_type": "stream",
       "stream": "stdout",
       "text": [
        "Model Sequence: problems_completed\n",
        "Score=R-Squared:0.424030274549,Adj R-Squared:0.424018460512\n",
        "Coefficients:[  4.40619763e-16   6.51176070e-01]\n"
       ]
      }
     ],
     "prompt_number": 14
    },
    {
     "cell_type": "code",
     "collapsed": false,
     "input": [
      "# Cross validation to compute RSME\n",
      "from statsmodels.tools import eval_measures\n",
      "def calc_rmse(predicted, observed, format_str):\n",
      "    #residual = (observed - predicted)\n",
      "    #residual_sum = np.sum(residual*residual)\n",
      "    #error = np.sqrt(residual_sum/(len(predicted)))\n",
      "    #print \"{0} RSME: {1}\".format(format_str, error)\n",
      "    MSE = eval_measures.mse(predicted, observed, axis=0)    \n",
      "    RMSE = eval_measures.rmse(predicted, observed, axis=0)\n",
      "    print \"{0} RMSE: {1}, MSE: {2}\".format(format_str, RMSE, MSE)    \n",
      "\n",
      "# Cross Validation to measure how accurate prediction score (simple method, 80/20 split)\n",
      "from sklearn.cross_validation import train_test_split\n",
      "x_train, x_test, y_train, y_test = \\\n",
      "train_test_split( x['problems_completed'].values, y.values, test_size=0.20, random_state=0)\n",
      "X_train = sm.add_constant(x_train, prepend=True)\n",
      "X_test  = sm.add_constant(x_test, prepend=True)\n",
      "model = sm.OLS(y_train, X_train)\n",
      "results = model.fit()\n",
      "log_model(results)\n",
      "# predict samples based off linear regression model\n",
      "predictions_train = []\n",
      "for idx in X_train:\n",
      "    predict = idx*results.params\n",
      "    predictions_train.append(np.sum(predict))\n",
      "\n",
      "calc_rmse(predictions_train, y_train, \"Training\")\n",
      "    \n",
      "predictions_test = []\n",
      "for idx in X_test:\n",
      "    predict = idx*results.params\n",
      "    predictions_test.append(np.sum(predict))\n",
      "    \n",
      "calc_rmse(predictions_test,  y_test,  \"Test\")    "
     ],
     "language": "python",
     "metadata": {},
     "outputs": [
      {
       "output_type": "stream",
       "stream": "stdout",
       "text": [
        "Score=R-Squared:0.424830202352,Adj R-Squared:0.424815455165\n",
        "Coefficients:[ 0.00079158  0.65105966]\n",
        "Training RMSE: 0.759968434237, MSE: 0.577552021036"
       ]
      },
      {
       "output_type": "stream",
       "stream": "stdout",
       "text": [
        "\n",
        "Test RMSE: 0.754708338454, MSE: 0.569584676132"
       ]
      },
      {
       "output_type": "stream",
       "stream": "stdout",
       "text": [
        "\n"
       ]
      }
     ],
     "prompt_number": 15
    },
    {
     "cell_type": "code",
     "collapsed": false,
     "input": [
      "# compare training and test errors againt sklearn LinearRegression\n",
      "from sklearn.linear_model import LinearRegression\n",
      "lr = LinearRegression(fit_intercept=True)\n",
      "# based on the same standard 80/20 split previously\n",
      "x_train_r = x_train.reshape(-1,1)\n",
      "y_train_r = y_train.reshape(-1,1)\n",
      "x_test_r = x_test.reshape(-1,1)\n",
      "y_test_r = y_test.reshape(-1,1)\n",
      "# Scores (R-Squared)\n",
      "# R-Squared Training matches up with statsmodels R-Squared Training Data\n",
      "lr.fit(x_train_r,y_train_r)\n",
      "print \"Model Intercept:{0}, Coefficient:{1}\".format(lr.intercept_[0], lr.coef_[0])\n",
      "p_train = lr.predict(x_train_r)\n",
      "p_test  = lr.predict(x_test_r)\n",
      "print \"Train Score:{0}\".format(lr.score(x_train_r, y_train_r))\n",
      "print \"Test Score:{0}\".format(lr.score(x_test_r, y_test_r))    \n",
      "# calculate RSME for Training and Test \n",
      "calc_rmse(p_train, y_train_r, \"Training\")\n",
      "calc_rmse(p_test,  y_test_r,  \"Test\")"
     ],
     "language": "python",
     "metadata": {},
     "outputs": [
      {
       "output_type": "stream",
       "stream": "stdout",
       "text": [
        "Model Intercept:0.000791583709484, Coefficient:[ 0.65105966]\n",
        "Train Score:0.424830202352\n",
        "Test Score:0.420729728005\n",
        "Training RMSE: [ 0.75996843], MSE: [ 0.57755202]\n",
        "Test RMSE: [ 0.75470834], MSE: [ 0.56958468]\n"
       ]
      }
     ],
     "prompt_number": 16
    },
    {
     "cell_type": "markdown",
     "metadata": {},
     "source": [
      "### Cross Validation Comparision Summary\n",
      "* Using the standard 80/20 split, our R-Square/Adj R-Squared values line up approximately about the same at ~0.424 for standalone 'problems_completed'.  The coefficients are very similar to at: (B0 ~0, B1~0.65).\n",
      "* In this case the RSME for both the Test and Training sets are not far off from the mean squared error and also close to 0, so it is a good prediction.  \n",
      "* We could also look at Regularization to avoid overfitting."
     ]
    },
    {
     "cell_type": "code",
     "collapsed": false,
     "input": [],
     "language": "python",
     "metadata": {},
     "outputs": [],
     "prompt_number": 16
    }
   ],
   "metadata": {}
  }
 ]
}