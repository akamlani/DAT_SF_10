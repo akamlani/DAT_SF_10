{
 "metadata": {
  "name": "",
  "signature": "sha256:2a6106b88a348f537be1e096453bcbb324ca5815987fd2f25a234ef6626c6b13"
 },
 "nbformat": 3,
 "nbformat_minor": 0,
 "worksheets": [
  {
   "cells": [
    {
     "cell_type": "heading",
     "level": 1,
     "metadata": {},
     "source": [
      "HW1: DATA Munging Assignment"
     ]
    },
    {
     "cell_type": "code",
     "collapsed": false,
     "input": [
      "from pprint import pprint\n",
      "\n",
      "# step 1: load and parse json file into python environment\n",
      "import json\n",
      "\n",
      "# json.loads() function takes a JSON string and returns it as a Python data\n",
      "# using read() operation for reading in entire data as string rather than reading in a string line by line\n",
      "# although in thi example the 'ga_hw_logins.json' is just a single line anyways\n",
      "# returns as a python list seperate: e.g. type(data)\n",
      "\n",
      "with open('ga_hw_logins.json') as f:\n",
      "    logins = json.loads(f.read())\n",
      "    \n",
      "# log the head of the result\n",
      "pprint(logins[:5])"
     ],
     "language": "python",
     "metadata": {},
     "outputs": [
      {
       "output_type": "stream",
       "stream": "stdout",
       "text": [
        "[u'2014-01-20 00:01:31',\n",
        " u'2014-01-20 00:01:51',\n",
        " u'2014-01-20 00:02:12',\n",
        " u'2014-01-20 00:03:13',\n",
        " u'2014-01-20 00:05:34']\n"
       ]
      }
     ],
     "prompt_number": 1
    },
    {
     "cell_type": "code",
     "collapsed": false,
     "input": [
      "# step 2: Convert the strings into datetime objects, and append to a list\n",
      "# strptime takes string as input and produces datetie object, rather strftime returns a string based on date object\n",
      "from datetime import datetime\n",
      "\n",
      "date_object = []\n",
      "for login in logins: \n",
      "    # convert login string to datetime object\n",
      "    # format into Year(Year with Century)-Month-day Hour(24 Hour Clock):Minute:Second\n",
      "    date_object.append( datetime.strptime(login, '%Y-%m-%d %H:%M:%S') )\n",
      "    \n",
      "# log the head of result    \n",
      "pprint(date_object[:5])"
     ],
     "language": "python",
     "metadata": {},
     "outputs": [
      {
       "output_type": "stream",
       "stream": "stdout",
       "text": [
        "[datetime.datetime(2014, 1, 20, 0, 1, 31),\n",
        " datetime.datetime(2014, 1, 20, 0, 1, 51),\n",
        " datetime.datetime(2014, 1, 20, 0, 2, 12),\n",
        " datetime.datetime(2014, 1, 20, 0, 3, 13),\n",
        " datetime.datetime(2014, 1, 20, 0, 5, 34)]\n"
       ]
      }
     ],
     "prompt_number": 2
    },
    {
     "cell_type": "code",
     "collapsed": false,
     "input": [
      "# Bonus Question\n",
      "# Create database in sqlite3 and insert data\n",
      "# note that we could have run this with exception handling (try, except, finally)\n",
      "import sqlite3 as sql\n",
      "\n",
      "with sql.connect('ga_logins.db') as conn:\n",
      "    c = conn.cursor()\n",
      "    # Alternatively, use c.executescript(script); to run several sql statements together; instead of seperate executes\n",
      "    # Create table; not we are dropping the table so we can create a fresh new table for this example\n",
      "    # DATETIME type supports Format: YYYY-MM-DD HH:MM:SS\n",
      "    c.execute(\"DROP TABLE IF EXISTS Logins\")\n",
      "    c.execute('CREATE TABLE Logins (TimeStamp DATETIME)')\n",
      "\n",
      "    # Insert data into table\n",
      "    # Python API requires a Tuple to be inserted, convert each element into tuple and execute \n",
      "    logins_tuple = zip(iter(logins))\n",
      "    pprint(logins_tuple[:5])\n",
      "    c.executemany('INSERT INTO Logins(TimeStamp) VALUES (?)', logins_tuple)\n",
      "    conn.commit()"
     ],
     "language": "python",
     "metadata": {},
     "outputs": [
      {
       "output_type": "stream",
       "stream": "stdout",
       "text": [
        "[(u'2014-01-20 00:01:31',),\n",
        " (u'2014-01-20 00:01:51',),\n",
        " (u'2014-01-20 00:02:12',),\n",
        " (u'2014-01-20 00:03:13',),\n",
        " (u'2014-01-20 00:05:34',)]\n"
       ]
      }
     ],
     "prompt_number": 3
    },
    {
     "cell_type": "code",
     "collapsed": false,
     "input": [
      "    # Query the data to find the date and hour with the most logins; Use 'Group by' feature in SQL Queries\n",
      "    # Separating Data and Time for each entry; 'Login Counter' corresponds to combination of Date and Time as most logins\n",
      "    # Columns: {Raw Login, Date, Hour, Login Counter}\n",
      "\n",
      "    # Queries\n",
      "    # Most Logins based on 'Date' and 'Time' Together\n",
      "    sql_datetime_query = \"\"\"SELECT *, \n",
      "                            DATE(TimeStamp) as Date,\n",
      "                            STRFTIME('%H', TIME(Timestamp)) as Time,\n",
      "                            Count(*) as \"Login Counter\"\n",
      "                            FROM Logins\n",
      "                            GROUP BY Date, Time\n",
      "                            ORDER BY \"Login Counter\" Desc\n",
      "                            LIMIT 5\"\"\";\n",
      "\n",
      "    # Most Logins based on 'Date' alone\n",
      "    sql_date_query = \"\"\"SELECT *, \n",
      "                        DATE(TimeStamp) as Date,\n",
      "                        Count(*) as \"Date Login Counter\"\n",
      "                        FROM Logins\n",
      "                        GROUP BY Date\n",
      "                        ORDER BY \"Date Login Counter\" Desc\n",
      "                        LIMIT 5\"\"\";\n",
      "\n",
      "    def perform_query(sql_query):\n",
      "        c.execute(sql_query)\n",
      "        query_data = c.fetchall()\n",
      "        col_names = [d_tuple[0] for d_tuple in c.description]\n",
      "        return (col_names, query_data)\n",
      "\n",
      "\n",
      "    headers_datetime, data_datetime = perform_query(sql_datetime_query)\n",
      "    headers_date, data_date = perform_query(sql_date_query)\n",
      "\n",
      "# end loop, connection is closed"
     ],
     "language": "python",
     "metadata": {},
     "outputs": [],
     "prompt_number": 4
    },
    {
     "cell_type": "code",
     "collapsed": false,
     "input": [
      "# log the head information\n",
      "pprint(headers_datetime)\n",
      "pprint(data_datetime)\n",
      "print \n",
      "pprint(headers_date)\n",
      "pprint(data_date)"
     ],
     "language": "python",
     "metadata": {},
     "outputs": [
      {
       "output_type": "stream",
       "stream": "stdout",
       "text": [
        "['TimeStamp', 'Date', 'Time', 'Login Counter']\n",
        "[(u'2014-01-22 02:59:09', u'2014-01-22', u'02', 54),\n",
        " (u'2014-01-22 21:58:37', u'2014-01-22', u'21', 51),\n",
        " (u'2014-01-22 01:59:40', u'2014-01-22', u'01', 50),\n",
        " (u'2014-01-22 03:59:57', u'2014-01-22', u'03', 48),\n",
        " (u'2014-01-23 02:58:26', u'2014-01-23', u'02', 48)]\n",
        "\n",
        "['TimeStamp', 'Date', 'Date Login Counter']\n",
        "[(u'2014-01-22 23:55:43', u'2014-01-22', 524),\n",
        " (u'2014-01-23 23:57:52', u'2014-01-23', 435),\n",
        " (u'2014-01-21 23:58:52', u'2014-01-21', 361),\n",
        " (u'2014-01-26 23:59:55', u'2014-01-26', 261),\n",
        " (u'2014-01-20 23:59:33', u'2014-01-20', 247)]\n"
       ]
      }
     ],
     "prompt_number": 5
    },
    {
     "cell_type": "code",
     "collapsed": false,
     "input": [
      "# using pandas to display it in a nice tabular dataframe\n",
      "# using an index as Timestamp, rather than default numerical indexes\n",
      "import pandas as pd\n",
      "\n",
      "datetime_df = pd.DataFrame(data_datetime, columns=headers_datetime).set_index('TimeStamp')\n",
      "pprint(datetime_df)"
     ],
     "language": "python",
     "metadata": {},
     "outputs": [
      {
       "output_type": "stream",
       "stream": "stdout",
       "text": [
        "                           Date Time  Login Counter\n",
        "TimeStamp                                          \n",
        "2014-01-22 02:59:09  2014-01-22   02             54\n",
        "2014-01-22 21:58:37  2014-01-22   21             51\n",
        "2014-01-22 01:59:40  2014-01-22   01             50\n",
        "2014-01-22 03:59:57  2014-01-22   03             48\n",
        "2014-01-23 02:58:26  2014-01-23   02             48\n"
       ]
      }
     ],
     "prompt_number": 6
    },
    {
     "cell_type": "code",
     "collapsed": false,
     "input": [
      "# most popular logins based on 'Date' only\n",
      "# using pandas to display it in a nice tabular dataframe\n",
      "date_df = pd.DataFrame(data_date, columns=headers_date).set_index('TimeStamp')\n",
      "pprint(date_df)"
     ],
     "language": "python",
     "metadata": {},
     "outputs": [
      {
       "output_type": "stream",
       "stream": "stdout",
       "text": [
        "                           Date  Date Login Counter\n",
        "TimeStamp                                          \n",
        "2014-01-22 23:55:43  2014-01-22                 524\n",
        "2014-01-23 23:57:52  2014-01-23                 435\n",
        "2014-01-21 23:58:52  2014-01-21                 361\n",
        "2014-01-26 23:59:55  2014-01-26                 261\n",
        "2014-01-20 23:59:33  2014-01-20                 247\n"
       ]
      }
     ],
     "prompt_number": 7
    },
    {
     "cell_type": "code",
     "collapsed": false,
     "input": [],
     "language": "python",
     "metadata": {},
     "outputs": [],
     "prompt_number": 7
    }
   ],
   "metadata": {}
  }
 ]
}