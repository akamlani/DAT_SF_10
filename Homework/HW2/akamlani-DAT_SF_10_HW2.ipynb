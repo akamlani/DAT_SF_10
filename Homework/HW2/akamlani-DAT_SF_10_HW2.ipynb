{
 "metadata": {
  "name": "",
  "signature": "sha256:69cd6c57070f7d0faba8e11eabfcc57b04858ae1c82dbc2a04326bec1cc65e90"
 },
 "nbformat": 3,
 "nbformat_minor": 0,
 "worksheets": [
  {
   "cells": [
    {
     "cell_type": "code",
     "collapsed": false,
     "input": [
      "from pprint import pprint\n",
      "import pandas as pd\n",
      "import numpy as np\n",
      "\n",
      "# passing column headers (features) as the csv dataset has just data only\n",
      "features = ['sepal length (cm)', 'sepal width (cm)', 'petal length (cm)', 'petal width (cm)']\n",
      "col_headers = features + ['class'] \n",
      "data_df = pd.read_csv('iris.csv', names=col_headers)\n",
      "# note we are dropping the last row, as it is null; we consider it as outlier\n",
      "data_df.dropna(how='all', inplace=True)\n",
      "\n",
      "# X as Input, y as target label integer values\n",
      "labels = ['Iris-setosa', 'Iris-versicolor', 'Iris-virginica']\n",
      "target_indices = [labels.index('Iris-setosa'), labels.index('Iris-versicolor'), labels.index('Iris-virginica')]\n",
      "X = data_df[features]\n",
      "y = data_df['class'].replace(labels, target_indices, inplace=False)\n",
      "#y = np.repeat(np.array([0,1,2]), np.array([50,50,50]))\n",
      "\n",
      "print(\"Classification Labels:\\n{0}  \\nTarget Indicies:\\n{1}\".format(labels, target_indices)) \n",
      "print \"Feature Samples:\"\n",
      "pprint(X[:5])"
     ],
     "language": "python",
     "metadata": {},
     "outputs": [
      {
       "output_type": "stream",
       "stream": "stdout",
       "text": [
        "Classification Labels:\n",
        "['Iris-setosa', 'Iris-versicolor', 'Iris-virginica']  \n",
        "Target Indicies:\n",
        "[0, 1, 2]\n",
        "Feature Samples:\n",
        "   sepal length (cm)  sepal width (cm)  petal length (cm)  petal width (cm)\n",
        "0                5.1               3.5                1.4               0.2\n",
        "1                4.9               3.0                1.4               0.2\n",
        "2                4.7               3.2                1.3               0.2\n",
        "3                4.6               3.1                1.5               0.2\n",
        "4                5.0               3.6                1.4               0.2\n"
       ]
      }
     ],
     "prompt_number": 1
    },
    {
     "cell_type": "code",
     "collapsed": false,
     "input": [
      "# Question 1. Implement KNN classification, using the sklearn package\n",
      "from sklearn.cross_validation import train_test_split\n",
      "from sklearn.neighbors import KNeighborsClassifier\n",
      "# Keeping Standard 80:20 Training/Test Split\n",
      "X_train, X_test, y_train, y_test = train_test_split( X, y, test_size=0.20, random_state=0)\n",
      "print(\"Training Vector Dimensions: {0},{1}\".format(X_train.shape, y_train.shape))\n",
      "print(\"Test Vector Dimensions: {0},{1}\".format(X_test.shape, y_test.shape))\n",
      "\n",
      "# Initially using number of neighbors as k=3; default=5\n",
      "# score = mean accuracy on the given test data and labels\n",
      "iris_knn = KNeighborsClassifier(3).fit(X_train,y_train)\n",
      "iris_score = iris_knn.score(X_test, y_test)\n",
      "print \"Knn Classification Score:%f\" % iris_score \n"
     ],
     "language": "python",
     "metadata": {},
     "outputs": [
      {
       "output_type": "stream",
       "stream": "stdout",
       "text": [
        "Training Vector Dimensions: (120, 4),(120,)\n",
        "Test Vector Dimensions: (30, 4),(30,)\n",
        "Knn Classification Score:0.966667\n"
       ]
      }
     ],
     "prompt_number": 2
    },
    {
     "cell_type": "code",
     "collapsed": false,
     "input": [
      "# Question 2: Implement cross-validation for your KNN classifier \n",
      "# using 5-folds method, not using cross_val_score easy method to evaluate a score\n",
      "\n",
      "from sklearn.cross_validation import KFold\n",
      "# 5-fold CV, the training set is split into k smaller sets (model is trained using k-1 of the folds as training data)\n",
      "# First split taken as test vector, remaining folds on training (k-1) \n",
      "# 5-Folds is using Test Slice Size=30, Training Slice Size=120 for even distribution split\n",
      "\n",
      "def cross_validate(X, y, classifier, k_fold, shuffle_state=True) :\n",
      "    # derive a set of training and testing indices\n",
      "    k_fold_indices = KFold( len(X), n_folds=k_fold, indices=True, shuffle=shuffle_state, random_state=0)\n",
      "\n",
      "    k_score_total = 0\n",
      "    # for each training and testing slices run the classifier, and score the results\n",
      "    for train_slice, test_slice in k_fold_indices :\n",
      "        model = classifier(X[ train_slice  ], y[ train_slice  ])\n",
      "        k_score = model.score(X[ test_slice ],y[ test_slice ])\n",
      "        k_score_total += k_score\n",
      "\n",
      "    # return the average accuracy\n",
      "    return k_score_total/k_fold \n",
      "\n",
      "# Initially using number of neighbors as k=3; default=5\n",
      "# Convert from Pandas Frame to Numpy Matrix so indicies are not out of bounds and of correct type\n",
      "X_np_mx = X.as_matrix()\n",
      "# Perform with and without shuffling\n",
      "cv_fold_score = cross_validate(X_np_mx, y, KNeighborsClassifier(3).fit, 5)\n",
      "print \"5-Fold Cross Validation Knn Score w/Shuffle:%f\" % cv_fold_score \n",
      "cv_fold_score = cross_validate(X_np_mx, y, KNeighborsClassifier(3).fit, 5, False)\n",
      "print \"5-Fold Cross Validation Knn Score wo/Shuffle:%f\" % cv_fold_score "
     ],
     "language": "python",
     "metadata": {},
     "outputs": [
      {
       "output_type": "stream",
       "stream": "stdout",
       "text": [
        "5-Fold Cross Validation Knn Score w/Shuffle:0.953333\n",
        "5-Fold Cross Validation Knn Score wo/Shuffle:0.906667\n"
       ]
      }
     ],
     "prompt_number": 3
    },
    {
     "cell_type": "code",
     "collapsed": false,
     "input": [
      "# Question 3: Using KNN Classifier and Cross-Validation to determine optimum value for k (scale: 1-150)\n",
      "\n",
      "knn_scores = []\n",
      "for k in range(1,151):\n",
      "    score = {\"K\": k}\n",
      "    # Classification based on value of k for Test Scores\n",
      "    # Note that in Classification we are adjusting 'k', but not varying the train/test data\n",
      "    score[\"Knn Classifier\"] =  KNeighborsClassifier(k).fit(X_train,y_train).score(X_test,  y_test)\n",
      "    # Cross Validation Scores for folds=5 and shuffle=True (default)\n",
      "    score[\"K-Fold\"] = cross_validate(X_np_mx, y, KNeighborsClassifier(k).fit, 5)\n",
      "    knn_scores.append(score)\n",
      "\n",
      "print \"DATA: K vs Accuracy {K-Fold=5, Knn Classifier}\\n\"    \n",
      "calc_scores = pd.DataFrame(knn_scores)\n",
      "pprint(calc_scores[:15])"
     ],
     "language": "python",
     "metadata": {},
     "outputs": [
      {
       "output_type": "stream",
       "stream": "stdout",
       "text": [
        "DATA: K vs Accuracy {K-Fold=5, Knn Classifier}\n",
        "\n",
        "     K    K-Fold  Knn Classifier\n",
        "0    1  0.960000        1.000000\n",
        "1    2  0.940000        0.966667\n",
        "2    3  0.953333        0.966667\n",
        "3    4  0.960000        1.000000\n",
        "4    5  0.960000        0.966667\n",
        "5    6  0.953333        1.000000\n",
        "6    7  0.953333        1.000000\n",
        "7    8  0.960000        1.000000\n",
        "8    9  0.960000        1.000000\n",
        "9   10  0.960000        1.000000\n",
        "10  11  0.966667        1.000000\n",
        "11  12  0.960000        1.000000\n",
        "12  13  0.960000        1.000000\n",
        "13  14  0.953333        1.000000\n",
        "14  15  0.966667        1.000000\n"
       ]
      }
     ],
     "prompt_number": 4
    },
    {
     "cell_type": "markdown",
     "metadata": {},
     "source": [
      "Goal: The optimal value for k that leads to the lowest error rate based on K-Fold Cross Validation with with folds=5.\n",
      "* Increasing the \"K\" (model complexity) too large will lead to overfitting and lead to large generalization errors.\n",
      "* The Optimal Value of \"K\" with 5-Fold seems to be k=11, as this has minimized the error rate.\n",
      "* Note there will be some ties for minimized error rate and we select smallest 'k' for this.\n",
      "\n",
      "At this point we could see how k varies with an Out of Sample (OOS) Input to determine how well it generalizes"
     ]
    },
    {
     "cell_type": "code",
     "collapsed": false,
     "input": [
      "# Question 4: Via matplotlib, plot classifier accuracy vs 'K'\n",
      "# Identify range of 'K' that you find interesting\n",
      "\n",
      "%matplotlib inline\n",
      "from matplotlib import pyplot as plt\n",
      "\n",
      "fig = plt.figure(0)\n",
      "plt.xlabel('K')\n",
      "plt.ylabel('Classifier Accuracy')\n",
      "plt.title('Classifier Accuracy vs K', fontsize=14)\n",
      "\n",
      "xs = np.arange(1,151,1)\n",
      "plt.ylim(0.90, 1.0)\n",
      "plt.xlim(1,25)\n",
      "plt.plot(xs, calc_scores[\"Knn Classifier\"], label='Knn')\n",
      "plt.plot(xs, calc_scores[\"K-Fold\"], label='K-Fold')\n",
      "plt.legend(loc='upper right', shadow=True)\n",
      "plt.savefig('hw4.png')\n",
      "plt.show()"
     ],
     "language": "python",
     "metadata": {},
     "outputs": [
      {
       "metadata": {},
       "output_type": "display_data",
       "png": "[encoded data removed]",
       "text": [
        "<matplotlib.figure.Figure at 0x7fae7ac24f10>"
       ]
      }
     ],
     "prompt_number": 6
    },
    {
     "cell_type": "markdown",
     "metadata": {},
     "source": [
      "Notice that we did not plot 'k' for larger values, hence increased model complexity.\n",
      "*  Knn Classification 80/20 Split:\n",
      "   * When k > 24, the error rate starts to signifigantly increase, which leads to overfitting and large generalization errors.\n",
      "*  K-Fold Cross-Validation (5-Folds):\n",
      "   * When k > 11, the error rate starts to gradually increase, other than a small spike in reduced error rate at k=15.\n",
      "\n",
      "\n",
      "\n"
     ]
    },
    {
     "cell_type": "code",
     "collapsed": false,
     "input": [
      "# Bonus Question: Using optimal value of 'k' -> vary number of folds for cross validation across particular range\n",
      "# We have determined the optimal value for minimized error is 'k'=11.\n",
      "# Goal: Determine how classifier accuracy varies with number of folds used\n",
      "\n",
      "cv_folds = []\n",
      "for folds in range(2, 151):\n",
      "    d = (folds, cross_validate(X_np_mx, y, KNeighborsClassifier(11).fit, folds) )\n",
      "    cv_folds.append(d)\n",
      " \n",
      "df = pd.DataFrame(cv_folds, columns=[\"folds\", \"score\"])    \n",
      "filters = df[df.score > 0.965]\n",
      "print \"Maximum Fold Accuracy:\" \n",
      "pprint(filters[\"score\"].max())\n",
      "\n",
      "print \"\\nTop 10 Filtered Sorted Folds( > 0.965)\"\n",
      "sorted_df = filters.sort(['score'], ascending=[False])\n",
      "pprint(sorted_df[:10])\n",
      "\n",
      "print \"\\nGraph of Folds vs Accuracy: \"\n",
      "plt.xlabel('Folds')\n",
      "plt.ylabel('Classifier Accuracy')\n",
      "plt.title('Classifier Accuracy vs Folds', fontsize=14)\n",
      "plt.plot(filters[\"folds\"], filters[\"score\"])\n",
      "plt.savefig('hw4_bonus.png')\n",
      "plt.show()\n"
     ],
     "language": "python",
     "metadata": {},
     "outputs": [
      {
       "output_type": "stream",
       "stream": "stdout",
       "text": [
        "Maximum Fold Accuracy:\n",
        "0.97333333333333338\n",
        "\n",
        "Top 10 Filtered Sorted Folds( > 0.965)\n",
        "     folds     score\n",
        "148    150  0.973333\n",
        "129    131  0.973282\n",
        "147    149  0.973154\n",
        "128    130  0.973077\n",
        "146    148  0.972973\n",
        "127    129  0.972868\n",
        "145    147  0.972789\n",
        "126    128  0.972656\n",
        "144    146  0.972603\n",
        "125    127  0.972441\n",
        "\n",
        "Graph of Folds vs Accuracy: \n"
       ]
      },
      {
       "metadata": {},
       "output_type": "display_data",
       "png": "[encoded data removed]",
       "text": [
        "<matplotlib.figure.Figure at 0x7fae7a96be10>"
       ]
      }
     ],
     "prompt_number": 7
    },
    {
     "cell_type": "markdown",
     "metadata": {},
     "source": [
      "Goal: Identify if there is an optimal number of folds\n",
      "* Similarly, increasing the number of folds adds complexity, just like an increased value of 'k'.\n",
      "* As the number of folds increases, the training fold is split more\n",
      "* The accuracy increases (error rate decreases) as the number of folds increase.\n",
      "* At the maximum number of folds, the accuracy reached 0.973 (based on maximum number of folds=150), which is not ideal.\n",
      "\n",
      "There does not seem to be optimal number of folds, as this becomes a tradeoff between complexity and reduced error rate.\n",
      "One can make the arguement, that to keep complexity low, a smaller similar accuracy can be achieved, e.g. # folds = 16, with an accuracy of 0.967361 or #folds = 28 with an accuracy of 0.967857.  This is done by looking at the first 30 folds instead.\n",
      "\n",
      "\n",
      "\n"
     ]
    },
    {
     "cell_type": "code",
     "collapsed": false,
     "input": [
      "print \"\\nTop 10 Filtered Sorted Folds (Narrow Window) ( > 0.965)\"\n",
      "sorted_df = filters[:30].sort(['score'], ascending=[False])\n",
      "pprint(sorted_df[:10])\n",
      "print \"\\nGraph of Folds vs Accuracy (Narrow Window): \"\n",
      "plt.plot(filters[:30][\"folds\"], filters[:30][\"score\"])\n",
      "plt.show()"
     ],
     "language": "python",
     "metadata": {},
     "outputs": [
      {
       "output_type": "stream",
       "stream": "stdout",
       "text": [
        "\n",
        "Top 10 Filtered Sorted Folds (Narrow Window) ( > 0.965)\n",
        "    folds     score\n",
        "26     28  0.967857\n",
        "32     34  0.967647\n",
        "14     16  0.967361\n",
        "17     19  0.967105\n",
        "18     20  0.966964\n",
        "2       4  0.966927\n",
        "10     12  0.966880\n",
        "21     23  0.966874\n",
        "31     33  0.966667\n",
        "28     30  0.966667\n",
        "\n",
        "Graph of Folds vs Accuracy (Narrow Window): \n"
       ]
      },
      {
       "metadata": {},
       "output_type": "display_data",
       "png": "[encoded data removed]",
       "text": [
        "<matplotlib.figure.Figure at 0x7fae7cb232d0>"
       ]
      }
     ],
     "prompt_number": 9
    },
    {
     "cell_type": "code",
     "collapsed": false,
     "input": [],
     "language": "python",
     "metadata": {},
     "outputs": []
    }
   ],
   "metadata": {}
  }
 ]
}