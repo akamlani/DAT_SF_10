{
 "metadata": {
  "name": "",
  "signature": "sha256:f27311e8256c6e3ecc6f300b6d4375c7a8fe82322f993b55069c144ea1d189a0"
 },
 "nbformat": 3,
 "nbformat_minor": 0,
 "worksheets": [
  {
   "cells": [
    {
     "cell_type": "markdown",
     "metadata": {},
     "source": [
      "## DAT10-Lab09\n",
      "## Logistic Regression Classification"
     ]
    },
    {
     "cell_type": "markdown",
     "metadata": {},
     "source": [
      "Import the usual packages"
     ]
    },
    {
     "cell_type": "code",
     "collapsed": false,
     "input": [
      "import numpy as np\n",
      "import pandas as pd\n",
      "import matplotlib.pyplot as plt\n",
      "\n",
      "%matplotlib inline"
     ],
     "language": "python",
     "metadata": {},
     "outputs": [],
     "prompt_number": 8
    },
    {
     "cell_type": "markdown",
     "metadata": {},
     "source": [
      "Here are a couple pandas settings to make viewing the data a little easier"
     ]
    },
    {
     "cell_type": "code",
     "collapsed": false,
     "input": [
      "pd.set_option('display.max_rows',100)\n",
      "pd.set_option('display.max_columns',60)"
     ],
     "language": "python",
     "metadata": {},
     "outputs": [],
     "prompt_number": 9
    },
    {
     "cell_type": "markdown",
     "metadata": {},
     "source": [
      "#### Load the Iris Data Set"
     ]
    },
    {
     "cell_type": "code",
     "collapsed": false,
     "input": [
      "from sklearn import datasets\n",
      "\n",
      "iris = datasets.load_iris()\n",
      "features = iris.data\n",
      "target = iris.target\n",
      "Names = iris.target_names\n",
      "print features[:5]\n",
      "print \n",
      "print target[:5]"
     ],
     "language": "python",
     "metadata": {},
     "outputs": [
      {
       "output_type": "stream",
       "stream": "stdout",
       "text": [
        "[[ 5.1  3.5  1.4  0.2]\n",
        " [ 4.9  3.   1.4  0.2]\n",
        " [ 4.7  3.2  1.3  0.2]\n",
        " [ 4.6  3.1  1.5  0.2]\n",
        " [ 5.   3.6  1.4  0.2]]\n",
        "\n",
        "[0 0 0 0 0]\n"
       ]
      }
     ],
     "prompt_number": 10
    },
    {
     "cell_type": "markdown",
     "metadata": {},
     "source": [
      "#### Logistic Regression is a binary classifier so we'll just use two classes of the data set"
     ]
    },
    {
     "cell_type": "code",
     "collapsed": false,
     "input": [
      "features = features[target!=0]\n",
      "target = target[target!=0]\n",
      "\n",
      "print features[:5]"
     ],
     "language": "python",
     "metadata": {},
     "outputs": [
      {
       "output_type": "stream",
       "stream": "stdout",
       "text": [
        "[[ 7.   3.2  4.7  1.4]\n",
        " [ 6.4  3.2  4.5  1.5]\n",
        " [ 6.9  3.1  4.9  1.5]\n",
        " [ 5.5  2.3  4.   1.3]\n",
        " [ 6.5  2.8  4.6  1.5]]\n"
       ]
      }
     ],
     "prompt_number": 11
    },
    {
     "cell_type": "markdown",
     "metadata": {},
     "source": [
      "#### Use the cross_validation function from Lab 4"
     ]
    },
    {
     "cell_type": "code",
     "collapsed": false,
     "input": [
      "from sklearn.cross_validation import KFold\n",
      "\n",
      "def cross_validate(X, y, classifier, k_fold) :\n",
      "\n",
      "    # derive a set of (random) training and testing indices\n",
      "    k_fold_indices = KFold(len(X), n_folds=k_fold,\n",
      "                           shuffle=True, random_state=0)\n",
      "\n",
      "    k_score_total = 0\n",
      "    # for each training and testing slices run the classifier, and score the results\n",
      "    for train_slice, test_slice in k_fold_indices :\n",
      "\n",
      "        model = classifier(X[ train_slice  ],\n",
      "                         y[ train_slice  ])\n",
      "\n",
      "        k_score = model.score(X[ test_slice ],\n",
      "                              y[ test_slice ])\n",
      "\n",
      "        k_score_total += k_score\n",
      "\n",
      "    # return the average accuracy\n",
      "    return k_score_total/k_fold"
     ],
     "language": "python",
     "metadata": {},
     "outputs": [],
     "prompt_number": 12
    },
    {
     "cell_type": "markdown",
     "metadata": {},
     "source": [
      "#### Create an instance of a Logistic Regression model and apply cross-validation\n",
      "#### (Note: C parameter is for regularization)"
     ]
    },
    {
     "cell_type": "code",
     "collapsed": false,
     "input": [
      "from sklearn.linear_model import LogisticRegression\n",
      "\n",
      "model_lr = LogisticRegression(C=1).fit"
     ],
     "language": "python",
     "metadata": {},
     "outputs": [],
     "prompt_number": 13
    },
    {
     "cell_type": "code",
     "collapsed": false,
     "input": [
      "cross_validate(features, target, model_lr, 10)"
     ],
     "language": "python",
     "metadata": {},
     "outputs": [
      {
       "metadata": {},
       "output_type": "pyout",
       "prompt_number": 14,
       "text": [
        "0.96000000000000019"
       ]
      }
     ],
     "prompt_number": 14
    },
    {
     "cell_type": "markdown",
     "metadata": {},
     "source": [
      "### Review the feature importance\n"
     ]
    },
    {
     "cell_type": "code",
     "collapsed": false,
     "input": [
      "feature_names = ['sepal length', 'sepal width', 'petal length', 'petal width']\n",
      "model_lr = LogisticRegression(C=1).fit(features, target)\n",
      "\n",
      "x = np.arange(len(feature_names))\n"
     ],
     "language": "python",
     "metadata": {},
     "outputs": [],
     "prompt_number": 15
    },
    {
     "cell_type": "code",
     "collapsed": false,
     "input": [
      "plt.bar(x, model_lr.coef_.ravel())\n",
      "_ = plt.xticks(x + 0.5, feature_names, rotation=30)\n"
     ],
     "language": "python",
     "metadata": {},
     "outputs": [
      {
       "metadata": {},
       "output_type": "display_data",
       "png": "[encoded data removed]",
       "text": [
        "<matplotlib.figure.Figure at 0x7fb41e8909d0>"
       ]
      }
     ],
     "prompt_number": 16
    },
    {
     "cell_type": "markdown",
     "metadata": {},
     "source": [
      "### Exercise 1: Build Logistic Regression Classifier for Spambase Data"
     ]
    },
    {
     "cell_type": "markdown",
     "metadata": {},
     "source": [
      "#### Load the spambase.csv as a pandas DataFrame (last column of data contains Target Data - is_spam)"
     ]
    },
    {
     "cell_type": "code",
     "collapsed": false,
     "input": [
      "spam_data = pd.read_csv(\"spambase.csv\")\n",
      "spam_data.head()\n",
      "# spam_data.describe()\n",
      "# spam_data.info()"
     ],
     "language": "python",
     "metadata": {},
     "outputs": [
      {
       "html": [
        "<div style=\"max-height:1000px;max-width:1500px;overflow:auto;\">\n",
        "<table border=\"1\" class=\"dataframe\">\n",
        "  <thead>\n",
        "    <tr style=\"text-align: right;\">\n",
        "      <th></th>\n",
        "      <th>word_freq_make</th>\n",
        "      <th>word_freq_address</th>\n",
        "      <th>word_freq_all</th>\n",
        "      <th>word_freq_3d</th>\n",
        "      <th>word_freq_our</th>\n",
        "      <th>word_freq_over</th>\n",
        "      <th>word_freq_remove</th>\n",
        "      <th>word_freq_internet</th>\n",
        "      <th>word_freq_order</th>\n",
        "      <th>word_freq_mail</th>\n",
        "      <th>word_freq_receive</th>\n",
        "      <th>word_freq_will</th>\n",
        "      <th>word_freq_people</th>\n",
        "      <th>word_freq_report</th>\n",
        "      <th>word_freq_addresses</th>\n",
        "      <th>word_freq_free</th>\n",
        "      <th>word_freq_business</th>\n",
        "      <th>word_freq_email</th>\n",
        "      <th>word_freq_you</th>\n",
        "      <th>word_freq_credit</th>\n",
        "      <th>word_freq_your</th>\n",
        "      <th>word_freq_font</th>\n",
        "      <th>word_freq_000</th>\n",
        "      <th>word_freq_money</th>\n",
        "      <th>word_freq_hp</th>\n",
        "      <th>word_freq_hpl</th>\n",
        "      <th>word_freq_george</th>\n",
        "      <th>word_freq_650</th>\n",
        "      <th>word_freq_lab</th>\n",
        "      <th>word_freq_labs</th>\n",
        "      <th>word_freq_telnet</th>\n",
        "      <th>word_freq_857</th>\n",
        "      <th>word_freq_data</th>\n",
        "      <th>word_freq_415</th>\n",
        "      <th>word_freq_85</th>\n",
        "      <th>word_freq_technology</th>\n",
        "      <th>word_freq_1999</th>\n",
        "      <th>word_freq_parts</th>\n",
        "      <th>word_freq_pm</th>\n",
        "      <th>word_freq_direct</th>\n",
        "      <th>word_freq_cs</th>\n",
        "      <th>word_freq_meeting</th>\n",
        "      <th>word_freq_original</th>\n",
        "      <th>word_freq_project</th>\n",
        "      <th>word_freq_re</th>\n",
        "      <th>word_freq_edu</th>\n",
        "      <th>word_freq_table</th>\n",
        "      <th>word_freq_conference</th>\n",
        "      <th>char_freq_;</th>\n",
        "      <th>char_freq_(</th>\n",
        "      <th>char_freq_[</th>\n",
        "      <th>char_freq_!</th>\n",
        "      <th>char_freq_$</th>\n",
        "      <th>char_freq_#</th>\n",
        "      <th>capital_run_length_average</th>\n",
        "      <th>capital_run_length_longest</th>\n",
        "      <th>capital_run_length_total</th>\n",
        "      <th>is_spam</th>\n",
        "    </tr>\n",
        "  </thead>\n",
        "  <tbody>\n",
        "    <tr>\n",
        "      <th>0</th>\n",
        "      <td> 0.00</td>\n",
        "      <td> 0.64</td>\n",
        "      <td> 0.64</td>\n",
        "      <td> 0</td>\n",
        "      <td> 0.32</td>\n",
        "      <td> 0.00</td>\n",
        "      <td> 0.00</td>\n",
        "      <td> 0.00</td>\n",
        "      <td> 0.00</td>\n",
        "      <td> 0.00</td>\n",
        "      <td> 0.00</td>\n",
        "      <td> 0.64</td>\n",
        "      <td> 0.00</td>\n",
        "      <td> 0.00</td>\n",
        "      <td> 0.00</td>\n",
        "      <td> 0.32</td>\n",
        "      <td> 0.00</td>\n",
        "      <td> 1.29</td>\n",
        "      <td> 1.93</td>\n",
        "      <td> 0.00</td>\n",
        "      <td> 0.96</td>\n",
        "      <td> 0</td>\n",
        "      <td> 0.00</td>\n",
        "      <td> 0.00</td>\n",
        "      <td> 0</td>\n",
        "      <td> 0</td>\n",
        "      <td> 0</td>\n",
        "      <td> 0</td>\n",
        "      <td> 0</td>\n",
        "      <td> 0</td>\n",
        "      <td> 0</td>\n",
        "      <td> 0</td>\n",
        "      <td> 0</td>\n",
        "      <td> 0</td>\n",
        "      <td> 0</td>\n",
        "      <td> 0</td>\n",
        "      <td> 0.00</td>\n",
        "      <td> 0</td>\n",
        "      <td> 0</td>\n",
        "      <td> 0.00</td>\n",
        "      <td> 0</td>\n",
        "      <td> 0</td>\n",
        "      <td> 0.00</td>\n",
        "      <td> 0</td>\n",
        "      <td> 0.00</td>\n",
        "      <td> 0.00</td>\n",
        "      <td> 0</td>\n",
        "      <td> 0</td>\n",
        "      <td> 0.00</td>\n",
        "      <td> 0.000</td>\n",
        "      <td> 0</td>\n",
        "      <td> 0.778</td>\n",
        "      <td> 0.000</td>\n",
        "      <td> 0.000</td>\n",
        "      <td> 3.756</td>\n",
        "      <td>  61</td>\n",
        "      <td>  278</td>\n",
        "      <td> 1</td>\n",
        "    </tr>\n",
        "    <tr>\n",
        "      <th>1</th>\n",
        "      <td> 0.21</td>\n",
        "      <td> 0.28</td>\n",
        "      <td> 0.50</td>\n",
        "      <td> 0</td>\n",
        "      <td> 0.14</td>\n",
        "      <td> 0.28</td>\n",
        "      <td> 0.21</td>\n",
        "      <td> 0.07</td>\n",
        "      <td> 0.00</td>\n",
        "      <td> 0.94</td>\n",
        "      <td> 0.21</td>\n",
        "      <td> 0.79</td>\n",
        "      <td> 0.65</td>\n",
        "      <td> 0.21</td>\n",
        "      <td> 0.14</td>\n",
        "      <td> 0.14</td>\n",
        "      <td> 0.07</td>\n",
        "      <td> 0.28</td>\n",
        "      <td> 3.47</td>\n",
        "      <td> 0.00</td>\n",
        "      <td> 1.59</td>\n",
        "      <td> 0</td>\n",
        "      <td> 0.43</td>\n",
        "      <td> 0.43</td>\n",
        "      <td> 0</td>\n",
        "      <td> 0</td>\n",
        "      <td> 0</td>\n",
        "      <td> 0</td>\n",
        "      <td> 0</td>\n",
        "      <td> 0</td>\n",
        "      <td> 0</td>\n",
        "      <td> 0</td>\n",
        "      <td> 0</td>\n",
        "      <td> 0</td>\n",
        "      <td> 0</td>\n",
        "      <td> 0</td>\n",
        "      <td> 0.07</td>\n",
        "      <td> 0</td>\n",
        "      <td> 0</td>\n",
        "      <td> 0.00</td>\n",
        "      <td> 0</td>\n",
        "      <td> 0</td>\n",
        "      <td> 0.00</td>\n",
        "      <td> 0</td>\n",
        "      <td> 0.00</td>\n",
        "      <td> 0.00</td>\n",
        "      <td> 0</td>\n",
        "      <td> 0</td>\n",
        "      <td> 0.00</td>\n",
        "      <td> 0.132</td>\n",
        "      <td> 0</td>\n",
        "      <td> 0.372</td>\n",
        "      <td> 0.180</td>\n",
        "      <td> 0.048</td>\n",
        "      <td> 5.114</td>\n",
        "      <td> 101</td>\n",
        "      <td> 1028</td>\n",
        "      <td> 1</td>\n",
        "    </tr>\n",
        "    <tr>\n",
        "      <th>2</th>\n",
        "      <td> 0.06</td>\n",
        "      <td> 0.00</td>\n",
        "      <td> 0.71</td>\n",
        "      <td> 0</td>\n",
        "      <td> 1.23</td>\n",
        "      <td> 0.19</td>\n",
        "      <td> 0.19</td>\n",
        "      <td> 0.12</td>\n",
        "      <td> 0.64</td>\n",
        "      <td> 0.25</td>\n",
        "      <td> 0.38</td>\n",
        "      <td> 0.45</td>\n",
        "      <td> 0.12</td>\n",
        "      <td> 0.00</td>\n",
        "      <td> 1.75</td>\n",
        "      <td> 0.06</td>\n",
        "      <td> 0.06</td>\n",
        "      <td> 1.03</td>\n",
        "      <td> 1.36</td>\n",
        "      <td> 0.32</td>\n",
        "      <td> 0.51</td>\n",
        "      <td> 0</td>\n",
        "      <td> 1.16</td>\n",
        "      <td> 0.06</td>\n",
        "      <td> 0</td>\n",
        "      <td> 0</td>\n",
        "      <td> 0</td>\n",
        "      <td> 0</td>\n",
        "      <td> 0</td>\n",
        "      <td> 0</td>\n",
        "      <td> 0</td>\n",
        "      <td> 0</td>\n",
        "      <td> 0</td>\n",
        "      <td> 0</td>\n",
        "      <td> 0</td>\n",
        "      <td> 0</td>\n",
        "      <td> 0.00</td>\n",
        "      <td> 0</td>\n",
        "      <td> 0</td>\n",
        "      <td> 0.06</td>\n",
        "      <td> 0</td>\n",
        "      <td> 0</td>\n",
        "      <td> 0.12</td>\n",
        "      <td> 0</td>\n",
        "      <td> 0.06</td>\n",
        "      <td> 0.06</td>\n",
        "      <td> 0</td>\n",
        "      <td> 0</td>\n",
        "      <td> 0.01</td>\n",
        "      <td> 0.143</td>\n",
        "      <td> 0</td>\n",
        "      <td> 0.276</td>\n",
        "      <td> 0.184</td>\n",
        "      <td> 0.010</td>\n",
        "      <td> 9.821</td>\n",
        "      <td> 485</td>\n",
        "      <td> 2259</td>\n",
        "      <td> 1</td>\n",
        "    </tr>\n",
        "    <tr>\n",
        "      <th>3</th>\n",
        "      <td> 0.00</td>\n",
        "      <td> 0.00</td>\n",
        "      <td> 0.00</td>\n",
        "      <td> 0</td>\n",
        "      <td> 0.63</td>\n",
        "      <td> 0.00</td>\n",
        "      <td> 0.31</td>\n",
        "      <td> 0.63</td>\n",
        "      <td> 0.31</td>\n",
        "      <td> 0.63</td>\n",
        "      <td> 0.31</td>\n",
        "      <td> 0.31</td>\n",
        "      <td> 0.31</td>\n",
        "      <td> 0.00</td>\n",
        "      <td> 0.00</td>\n",
        "      <td> 0.31</td>\n",
        "      <td> 0.00</td>\n",
        "      <td> 0.00</td>\n",
        "      <td> 3.18</td>\n",
        "      <td> 0.00</td>\n",
        "      <td> 0.31</td>\n",
        "      <td> 0</td>\n",
        "      <td> 0.00</td>\n",
        "      <td> 0.00</td>\n",
        "      <td> 0</td>\n",
        "      <td> 0</td>\n",
        "      <td> 0</td>\n",
        "      <td> 0</td>\n",
        "      <td> 0</td>\n",
        "      <td> 0</td>\n",
        "      <td> 0</td>\n",
        "      <td> 0</td>\n",
        "      <td> 0</td>\n",
        "      <td> 0</td>\n",
        "      <td> 0</td>\n",
        "      <td> 0</td>\n",
        "      <td> 0.00</td>\n",
        "      <td> 0</td>\n",
        "      <td> 0</td>\n",
        "      <td> 0.00</td>\n",
        "      <td> 0</td>\n",
        "      <td> 0</td>\n",
        "      <td> 0.00</td>\n",
        "      <td> 0</td>\n",
        "      <td> 0.00</td>\n",
        "      <td> 0.00</td>\n",
        "      <td> 0</td>\n",
        "      <td> 0</td>\n",
        "      <td> 0.00</td>\n",
        "      <td> 0.137</td>\n",
        "      <td> 0</td>\n",
        "      <td> 0.137</td>\n",
        "      <td> 0.000</td>\n",
        "      <td> 0.000</td>\n",
        "      <td> 3.537</td>\n",
        "      <td>  40</td>\n",
        "      <td>  191</td>\n",
        "      <td> 1</td>\n",
        "    </tr>\n",
        "    <tr>\n",
        "      <th>4</th>\n",
        "      <td> 0.00</td>\n",
        "      <td> 0.00</td>\n",
        "      <td> 0.00</td>\n",
        "      <td> 0</td>\n",
        "      <td> 0.63</td>\n",
        "      <td> 0.00</td>\n",
        "      <td> 0.31</td>\n",
        "      <td> 0.63</td>\n",
        "      <td> 0.31</td>\n",
        "      <td> 0.63</td>\n",
        "      <td> 0.31</td>\n",
        "      <td> 0.31</td>\n",
        "      <td> 0.31</td>\n",
        "      <td> 0.00</td>\n",
        "      <td> 0.00</td>\n",
        "      <td> 0.31</td>\n",
        "      <td> 0.00</td>\n",
        "      <td> 0.00</td>\n",
        "      <td> 3.18</td>\n",
        "      <td> 0.00</td>\n",
        "      <td> 0.31</td>\n",
        "      <td> 0</td>\n",
        "      <td> 0.00</td>\n",
        "      <td> 0.00</td>\n",
        "      <td> 0</td>\n",
        "      <td> 0</td>\n",
        "      <td> 0</td>\n",
        "      <td> 0</td>\n",
        "      <td> 0</td>\n",
        "      <td> 0</td>\n",
        "      <td> 0</td>\n",
        "      <td> 0</td>\n",
        "      <td> 0</td>\n",
        "      <td> 0</td>\n",
        "      <td> 0</td>\n",
        "      <td> 0</td>\n",
        "      <td> 0.00</td>\n",
        "      <td> 0</td>\n",
        "      <td> 0</td>\n",
        "      <td> 0.00</td>\n",
        "      <td> 0</td>\n",
        "      <td> 0</td>\n",
        "      <td> 0.00</td>\n",
        "      <td> 0</td>\n",
        "      <td> 0.00</td>\n",
        "      <td> 0.00</td>\n",
        "      <td> 0</td>\n",
        "      <td> 0</td>\n",
        "      <td> 0.00</td>\n",
        "      <td> 0.135</td>\n",
        "      <td> 0</td>\n",
        "      <td> 0.135</td>\n",
        "      <td> 0.000</td>\n",
        "      <td> 0.000</td>\n",
        "      <td> 3.537</td>\n",
        "      <td>  40</td>\n",
        "      <td>  191</td>\n",
        "      <td> 1</td>\n",
        "    </tr>\n",
        "  </tbody>\n",
        "</table>\n",
        "</div>"
       ],
       "metadata": {},
       "output_type": "pyout",
       "prompt_number": 17,
       "text": [
        "   word_freq_make  word_freq_address  word_freq_all  word_freq_3d  \\\n",
        "0            0.00               0.64           0.64             0   \n",
        "1            0.21               0.28           0.50             0   \n",
        "2            0.06               0.00           0.71             0   \n",
        "3            0.00               0.00           0.00             0   \n",
        "4            0.00               0.00           0.00             0   \n",
        "\n",
        "   word_freq_our  word_freq_over  word_freq_remove  word_freq_internet  \\\n",
        "0           0.32            0.00              0.00                0.00   \n",
        "1           0.14            0.28              0.21                0.07   \n",
        "2           1.23            0.19              0.19                0.12   \n",
        "3           0.63            0.00              0.31                0.63   \n",
        "4           0.63            0.00              0.31                0.63   \n",
        "\n",
        "   word_freq_order  word_freq_mail  word_freq_receive  word_freq_will  \\\n",
        "0             0.00            0.00               0.00            0.64   \n",
        "1             0.00            0.94               0.21            0.79   \n",
        "2             0.64            0.25               0.38            0.45   \n",
        "3             0.31            0.63               0.31            0.31   \n",
        "4             0.31            0.63               0.31            0.31   \n",
        "\n",
        "   word_freq_people  word_freq_report  word_freq_addresses  word_freq_free  \\\n",
        "0              0.00              0.00                 0.00            0.32   \n",
        "1              0.65              0.21                 0.14            0.14   \n",
        "2              0.12              0.00                 1.75            0.06   \n",
        "3              0.31              0.00                 0.00            0.31   \n",
        "4              0.31              0.00                 0.00            0.31   \n",
        "\n",
        "   word_freq_business  word_freq_email  word_freq_you  word_freq_credit  \\\n",
        "0                0.00             1.29           1.93              0.00   \n",
        "1                0.07             0.28           3.47              0.00   \n",
        "2                0.06             1.03           1.36              0.32   \n",
        "3                0.00             0.00           3.18              0.00   \n",
        "4                0.00             0.00           3.18              0.00   \n",
        "\n",
        "   word_freq_your  word_freq_font  word_freq_000  word_freq_money  \\\n",
        "0            0.96               0           0.00             0.00   \n",
        "1            1.59               0           0.43             0.43   \n",
        "2            0.51               0           1.16             0.06   \n",
        "3            0.31               0           0.00             0.00   \n",
        "4            0.31               0           0.00             0.00   \n",
        "\n",
        "   word_freq_hp  word_freq_hpl  word_freq_george  word_freq_650  \\\n",
        "0             0              0                 0              0   \n",
        "1             0              0                 0              0   \n",
        "2             0              0                 0              0   \n",
        "3             0              0                 0              0   \n",
        "4             0              0                 0              0   \n",
        "\n",
        "   word_freq_lab  word_freq_labs  word_freq_telnet  word_freq_857  \\\n",
        "0              0               0                 0              0   \n",
        "1              0               0                 0              0   \n",
        "2              0               0                 0              0   \n",
        "3              0               0                 0              0   \n",
        "4              0               0                 0              0   \n",
        "\n",
        "   word_freq_data  word_freq_415  word_freq_85  word_freq_technology  \\\n",
        "0               0              0             0                     0   \n",
        "1               0              0             0                     0   \n",
        "2               0              0             0                     0   \n",
        "3               0              0             0                     0   \n",
        "4               0              0             0                     0   \n",
        "\n",
        "   word_freq_1999  word_freq_parts  word_freq_pm  word_freq_direct  \\\n",
        "0            0.00                0             0              0.00   \n",
        "1            0.07                0             0              0.00   \n",
        "2            0.00                0             0              0.06   \n",
        "3            0.00                0             0              0.00   \n",
        "4            0.00                0             0              0.00   \n",
        "\n",
        "   word_freq_cs  word_freq_meeting  word_freq_original  word_freq_project  \\\n",
        "0             0                  0                0.00                  0   \n",
        "1             0                  0                0.00                  0   \n",
        "2             0                  0                0.12                  0   \n",
        "3             0                  0                0.00                  0   \n",
        "4             0                  0                0.00                  0   \n",
        "\n",
        "   word_freq_re  word_freq_edu  word_freq_table  word_freq_conference  \\\n",
        "0          0.00           0.00                0                     0   \n",
        "1          0.00           0.00                0                     0   \n",
        "2          0.06           0.06                0                     0   \n",
        "3          0.00           0.00                0                     0   \n",
        "4          0.00           0.00                0                     0   \n",
        "\n",
        "   char_freq_;  char_freq_(  char_freq_[  char_freq_!  char_freq_$  \\\n",
        "0         0.00        0.000            0        0.778        0.000   \n",
        "1         0.00        0.132            0        0.372        0.180   \n",
        "2         0.01        0.143            0        0.276        0.184   \n",
        "3         0.00        0.137            0        0.137        0.000   \n",
        "4         0.00        0.135            0        0.135        0.000   \n",
        "\n",
        "   char_freq_#  capital_run_length_average  capital_run_length_longest  \\\n",
        "0        0.000                       3.756                          61   \n",
        "1        0.048                       5.114                         101   \n",
        "2        0.010                       9.821                         485   \n",
        "3        0.000                       3.537                          40   \n",
        "4        0.000                       3.537                          40   \n",
        "\n",
        "   capital_run_length_total  is_spam  \n",
        "0                       278        1  \n",
        "1                      1028        1  \n",
        "2                      2259        1  \n",
        "3                       191        1  \n",
        "4                       191        1  "
       ]
      }
     ],
     "prompt_number": 17
    },
    {
     "cell_type": "markdown",
     "metadata": {},
     "source": [
      "Separate features with iloc indexing"
     ]
    },
    {
     "cell_type": "code",
     "collapsed": false,
     "input": [
      "features = spam_data.iloc[:,:-1]\n",
      "target = spam_data.get('is_spam')\n",
      "\n",
      "#features.head()\n",
      "# target.head()"
     ],
     "language": "python",
     "metadata": {},
     "outputs": [],
     "prompt_number": 48
    },
    {
     "cell_type": "markdown",
     "metadata": {},
     "source": [
      "Convert DataFrames into numpy arrays"
     ]
    },
    {
     "cell_type": "code",
     "collapsed": false,
     "input": [
      "feat_val = features.values\n",
      "target_val = target.values"
     ],
     "language": "python",
     "metadata": {},
     "outputs": [],
     "prompt_number": 40
    },
    {
     "cell_type": "markdown",
     "metadata": {},
     "source": [
      "#### Use crossvalidation to score model"
     ]
    },
    {
     "cell_type": "code",
     "collapsed": false,
     "input": [
      "from sklearn.linear_model import LogisticRegression\n",
      "\n",
      "model_lr = LogisticRegression(C=1).fit\n",
      "cross_validate(feat_val, target_val, model_lr, 10)"
     ],
     "language": "python",
     "metadata": {},
     "outputs": [
      {
       "metadata": {},
       "output_type": "pyout",
       "prompt_number": 41,
       "text": [
        "0.92653965858719245"
       ]
      }
     ],
     "prompt_number": 41
    },
    {
     "cell_type": "markdown",
     "metadata": {},
     "source": [
      "### Exercise 2: Compare Performance of Logistic Regression to KNN"
     ]
    },
    {
     "cell_type": "code",
     "collapsed": false,
     "input": [
      "from sklearn.neighbors import KNeighborsClassifier\n",
      "\n",
      "model_knn = KNeighborsClassifier(11).fit\n",
      "cross_validate(feat_val, target_val, model_knn, 10)"
     ],
     "language": "python",
     "metadata": {},
     "outputs": [
      {
       "metadata": {},
       "output_type": "pyout",
       "prompt_number": 42,
       "text": [
        "0.7906979156842403"
       ]
      }
     ],
     "prompt_number": 42
    },
    {
     "cell_type": "markdown",
     "metadata": {},
     "source": [
      "### Exercise 3: Evaluate Feature Importance"
     ]
    },
    {
     "cell_type": "code",
     "collapsed": false,
     "input": [
      "feature_names = spam_data.columns.values[:-1]\n",
      "feature_names = feature_names[:10]\n",
      "model_lr = LogisticRegression(C=1).fit(feat_val, target_val)\n",
      "x = np.arange(len(feature_names))\n",
      "plt.bar(x, model_lr.coef_.ravel()[:10])\n",
      "_ = plt.xticks(x + 0.5, feature_names, rotation=30)\n",
      "\n"
     ],
     "language": "python",
     "metadata": {},
     "outputs": [
      {
       "metadata": {},
       "output_type": "display_data",
       "png": "[encoded data removed]",
       "text": [
        "<matplotlib.figure.Figure at 0x7fb41e6cde50>"
       ]
      }
     ],
     "prompt_number": 43
    },
    {
     "cell_type": "markdown",
     "metadata": {},
     "source": [
      "## ROC (Receiver Operator Characteristic) Plots"
     ]
    },
    {
     "cell_type": "code",
     "collapsed": false,
     "input": [
      "from sklearn.metrics import roc_curve\n",
      "from sklearn.metrics import auc\n",
      "\n",
      "def plot_roc_curve(target_test, target_predicted_proba):\n",
      "    fpr, tpr, thresholds = roc_curve(target_test, target_predicted_proba[:, 1\n",
      "                                                                         ])\n",
      "    roc_auc = auc(fpr, tpr)\n",
      "    \n",
      "    # Plot ROC curve\n",
      "    plt.plot(fpr, tpr, label='ROC curve (area = %0.3f)' % roc_auc)\n",
      "    plt.plot([0, 1], [0, 1], 'k--')  # random predictions curve\n",
      "    plt.xlim([0.0, 1.0])\n",
      "    plt.ylim([0.0, 1.0])\n",
      "    plt.xlabel('False Positive Rate or (1 - Specifity)')\n",
      "    plt.ylabel('True Positive Rate or (Sensitivity)')\n",
      "    plt.title('Receiver Operating Characteristic')\n",
      "    plt.legend(loc=\"lower right\")"
     ],
     "language": "python",
     "metadata": {},
     "outputs": [],
     "prompt_number": 23
    },
    {
     "cell_type": "code",
     "collapsed": false,
     "input": [
      "from sklearn.cross_validation import train_test_split\n",
      "\n",
      "train_feat, test_feat, train_target, test_target = train_test_split(feat_val, target_val, train_size=0.5)"
     ],
     "language": "python",
     "metadata": {},
     "outputs": [],
     "prompt_number": 44
    },
    {
     "cell_type": "code",
     "collapsed": false,
     "input": [
      "model_lr = LogisticRegression(C=1).fit(train_feat, train_target)\n",
      "target_predicted_proba = model_lr.predict_proba(test_feat)\n",
      "print type(test_feat)\n",
      "print test_feat.dtype\n",
      "print test_target.dtype"
     ],
     "language": "python",
     "metadata": {},
     "outputs": [
      {
       "output_type": "stream",
       "stream": "stdout",
       "text": [
        "<type 'numpy.ndarray'>\n",
        "float64\n",
        "int64\n"
       ]
      }
     ],
     "prompt_number": 49
    },
    {
     "cell_type": "code",
     "collapsed": false,
     "input": [
      "plot_roc_curve(test_target, target_predicted_proba)"
     ],
     "language": "python",
     "metadata": {},
     "outputs": [
      {
       "metadata": {},
       "output_type": "display_data",
       "png": "[encoded data removed]",
       "text": [
        "<matplotlib.figure.Figure at 0x109a54f10>"
       ]
      }
     ],
     "prompt_number": 37
    }
   ],
   "metadata": {}
  }
 ]
}